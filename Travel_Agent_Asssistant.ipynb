{
  "nbformat": 4,
  "nbformat_minor": 0,
  "metadata": {
    "colab": {
      "provenance": [],
      "authorship_tag": "ABX9TyMUABlCY5hYu/nBPvJLKYZ1",
      "include_colab_link": true
    },
    "kernelspec": {
      "name": "python3",
      "display_name": "Python 3"
    },
    "language_info": {
      "name": "python"
    }
  },
  "cells": [
    {
      "cell_type": "markdown",
      "metadata": {
        "id": "view-in-github",
        "colab_type": "text"
      },
      "source": [
        "<a href=\"https://colab.research.google.com/github/sohaiba/travel_agent_assistant/blob/main/Travel_Agent_Asssistant.ipynb\" target=\"_parent\"><img src=\"https://colab.research.google.com/assets/colab-badge.svg\" alt=\"Open In Colab\"/></a>"
      ]
    },
    {
      "cell_type": "code",
      "source": [
        "!pip install streamlit\n",
        "!pip install plotly\n",
        "!pip install --upgrade openai"
      ],
      "metadata": {
        "colab": {
          "base_uri": "https://localhost:8080/"
        },
        "id": "3dtzXM0zhPoY",
        "outputId": "866f307f-3d9a-4569-b381-a85e58ac2e6a"
      },
      "execution_count": 2,
      "outputs": [
        {
          "output_type": "stream",
          "name": "stdout",
          "text": [
            "Collecting streamlit\n",
            "  Downloading streamlit-1.29.0-py2.py3-none-any.whl (8.4 MB)\n",
            "\u001b[2K     \u001b[90m━━━━━━━━━━━━━━━━━━━━━━━━━━━━━━━━━━━━━━━━\u001b[0m \u001b[32m8.4/8.4 MB\u001b[0m \u001b[31m12.9 MB/s\u001b[0m eta \u001b[36m0:00:00\u001b[0m\n",
            "\u001b[?25hRequirement already satisfied: altair<6,>=4.0 in /usr/local/lib/python3.10/dist-packages (from streamlit) (4.2.2)\n",
            "Requirement already satisfied: blinker<2,>=1.0.0 in /usr/lib/python3/dist-packages (from streamlit) (1.4)\n",
            "Requirement already satisfied: cachetools<6,>=4.0 in /usr/local/lib/python3.10/dist-packages (from streamlit) (5.3.2)\n",
            "Requirement already satisfied: click<9,>=7.0 in /usr/local/lib/python3.10/dist-packages (from streamlit) (8.1.7)\n",
            "Collecting importlib-metadata<7,>=1.4 (from streamlit)\n",
            "  Downloading importlib_metadata-6.11.0-py3-none-any.whl (23 kB)\n",
            "Requirement already satisfied: numpy<2,>=1.19.3 in /usr/local/lib/python3.10/dist-packages (from streamlit) (1.23.5)\n",
            "Requirement already satisfied: packaging<24,>=16.8 in /usr/local/lib/python3.10/dist-packages (from streamlit) (23.2)\n",
            "Requirement already satisfied: pandas<3,>=1.3.0 in /usr/local/lib/python3.10/dist-packages (from streamlit) (1.5.3)\n",
            "Requirement already satisfied: pillow<11,>=7.1.0 in /usr/local/lib/python3.10/dist-packages (from streamlit) (9.4.0)\n",
            "Requirement already satisfied: protobuf<5,>=3.20 in /usr/local/lib/python3.10/dist-packages (from streamlit) (3.20.3)\n",
            "Requirement already satisfied: pyarrow>=6.0 in /usr/local/lib/python3.10/dist-packages (from streamlit) (10.0.1)\n",
            "Requirement already satisfied: python-dateutil<3,>=2.7.3 in /usr/local/lib/python3.10/dist-packages (from streamlit) (2.8.2)\n",
            "Requirement already satisfied: requests<3,>=2.27 in /usr/local/lib/python3.10/dist-packages (from streamlit) (2.31.0)\n",
            "Requirement already satisfied: rich<14,>=10.14.0 in /usr/local/lib/python3.10/dist-packages (from streamlit) (13.7.0)\n",
            "Requirement already satisfied: tenacity<9,>=8.1.0 in /usr/local/lib/python3.10/dist-packages (from streamlit) (8.2.3)\n",
            "Requirement already satisfied: toml<2,>=0.10.1 in /usr/local/lib/python3.10/dist-packages (from streamlit) (0.10.2)\n",
            "Requirement already satisfied: typing-extensions<5,>=4.3.0 in /usr/local/lib/python3.10/dist-packages (from streamlit) (4.5.0)\n",
            "Requirement already satisfied: tzlocal<6,>=1.1 in /usr/local/lib/python3.10/dist-packages (from streamlit) (5.2)\n",
            "Collecting validators<1,>=0.2 (from streamlit)\n",
            "  Downloading validators-0.22.0-py3-none-any.whl (26 kB)\n",
            "Collecting gitpython!=3.1.19,<4,>=3.0.7 (from streamlit)\n",
            "  Downloading GitPython-3.1.40-py3-none-any.whl (190 kB)\n",
            "\u001b[2K     \u001b[90m━━━━━━━━━━━━━━━━━━━━━━━━━━━━━━━━━━━━━━━━\u001b[0m \u001b[32m190.6/190.6 kB\u001b[0m \u001b[31m6.4 MB/s\u001b[0m eta \u001b[36m0:00:00\u001b[0m\n",
            "\u001b[?25hCollecting pydeck<1,>=0.8.0b4 (from streamlit)\n",
            "  Downloading pydeck-0.8.1b0-py2.py3-none-any.whl (4.8 MB)\n",
            "\u001b[2K     \u001b[90m━━━━━━━━━━━━━━━━━━━━━━━━━━━━━━━━━━━━━━━━\u001b[0m \u001b[32m4.8/4.8 MB\u001b[0m \u001b[31m26.5 MB/s\u001b[0m eta \u001b[36m0:00:00\u001b[0m\n",
            "\u001b[?25hRequirement already satisfied: tornado<7,>=6.0.3 in /usr/local/lib/python3.10/dist-packages (from streamlit) (6.3.2)\n",
            "Collecting watchdog>=2.1.5 (from streamlit)\n",
            "  Downloading watchdog-3.0.0-py3-none-manylinux2014_x86_64.whl (82 kB)\n",
            "\u001b[2K     \u001b[90m━━━━━━━━━━━━━━━━━━━━━━━━━━━━━━━━━━━━━━━━\u001b[0m \u001b[32m82.1/82.1 kB\u001b[0m \u001b[31m1.6 MB/s\u001b[0m eta \u001b[36m0:00:00\u001b[0m\n",
            "\u001b[?25hRequirement already satisfied: entrypoints in /usr/local/lib/python3.10/dist-packages (from altair<6,>=4.0->streamlit) (0.4)\n",
            "Requirement already satisfied: jinja2 in /usr/local/lib/python3.10/dist-packages (from altair<6,>=4.0->streamlit) (3.1.2)\n",
            "Requirement already satisfied: jsonschema>=3.0 in /usr/local/lib/python3.10/dist-packages (from altair<6,>=4.0->streamlit) (4.19.2)\n",
            "Requirement already satisfied: toolz in /usr/local/lib/python3.10/dist-packages (from altair<6,>=4.0->streamlit) (0.12.0)\n",
            "Collecting gitdb<5,>=4.0.1 (from gitpython!=3.1.19,<4,>=3.0.7->streamlit)\n",
            "  Downloading gitdb-4.0.11-py3-none-any.whl (62 kB)\n",
            "\u001b[2K     \u001b[90m━━━━━━━━━━━━━━━━━━━━━━━━━━━━━━━━━━━━━━━━\u001b[0m \u001b[32m62.7/62.7 kB\u001b[0m \u001b[31m2.4 MB/s\u001b[0m eta \u001b[36m0:00:00\u001b[0m\n",
            "\u001b[?25hRequirement already satisfied: zipp>=0.5 in /usr/local/lib/python3.10/dist-packages (from importlib-metadata<7,>=1.4->streamlit) (3.17.0)\n",
            "Requirement already satisfied: pytz>=2020.1 in /usr/local/lib/python3.10/dist-packages (from pandas<3,>=1.3.0->streamlit) (2023.3.post1)\n",
            "Requirement already satisfied: six>=1.5 in /usr/local/lib/python3.10/dist-packages (from python-dateutil<3,>=2.7.3->streamlit) (1.16.0)\n",
            "Requirement already satisfied: charset-normalizer<4,>=2 in /usr/local/lib/python3.10/dist-packages (from requests<3,>=2.27->streamlit) (3.3.2)\n",
            "Requirement already satisfied: idna<4,>=2.5 in /usr/local/lib/python3.10/dist-packages (from requests<3,>=2.27->streamlit) (3.6)\n",
            "Requirement already satisfied: urllib3<3,>=1.21.1 in /usr/local/lib/python3.10/dist-packages (from requests<3,>=2.27->streamlit) (2.0.7)\n",
            "Requirement already satisfied: certifi>=2017.4.17 in /usr/local/lib/python3.10/dist-packages (from requests<3,>=2.27->streamlit) (2023.11.17)\n",
            "Requirement already satisfied: markdown-it-py>=2.2.0 in /usr/local/lib/python3.10/dist-packages (from rich<14,>=10.14.0->streamlit) (3.0.0)\n",
            "Requirement already satisfied: pygments<3.0.0,>=2.13.0 in /usr/local/lib/python3.10/dist-packages (from rich<14,>=10.14.0->streamlit) (2.16.1)\n",
            "Collecting smmap<6,>=3.0.1 (from gitdb<5,>=4.0.1->gitpython!=3.1.19,<4,>=3.0.7->streamlit)\n",
            "  Downloading smmap-5.0.1-py3-none-any.whl (24 kB)\n",
            "Requirement already satisfied: MarkupSafe>=2.0 in /usr/local/lib/python3.10/dist-packages (from jinja2->altair<6,>=4.0->streamlit) (2.1.3)\n",
            "Requirement already satisfied: attrs>=22.2.0 in /usr/local/lib/python3.10/dist-packages (from jsonschema>=3.0->altair<6,>=4.0->streamlit) (23.2.0)\n",
            "Requirement already satisfied: jsonschema-specifications>=2023.03.6 in /usr/local/lib/python3.10/dist-packages (from jsonschema>=3.0->altair<6,>=4.0->streamlit) (2023.12.1)\n",
            "Requirement already satisfied: referencing>=0.28.4 in /usr/local/lib/python3.10/dist-packages (from jsonschema>=3.0->altair<6,>=4.0->streamlit) (0.32.0)\n",
            "Requirement already satisfied: rpds-py>=0.7.1 in /usr/local/lib/python3.10/dist-packages (from jsonschema>=3.0->altair<6,>=4.0->streamlit) (0.16.2)\n",
            "Requirement already satisfied: mdurl~=0.1 in /usr/local/lib/python3.10/dist-packages (from markdown-it-py>=2.2.0->rich<14,>=10.14.0->streamlit) (0.1.2)\n",
            "Installing collected packages: watchdog, validators, smmap, importlib-metadata, pydeck, gitdb, gitpython, streamlit\n",
            "  Attempting uninstall: importlib-metadata\n",
            "    Found existing installation: importlib-metadata 7.0.1\n",
            "    Uninstalling importlib-metadata-7.0.1:\n",
            "      Successfully uninstalled importlib-metadata-7.0.1\n",
            "Successfully installed gitdb-4.0.11 gitpython-3.1.40 importlib-metadata-6.11.0 pydeck-0.8.1b0 smmap-5.0.1 streamlit-1.29.0 validators-0.22.0 watchdog-3.0.0\n",
            "Requirement already satisfied: plotly in /usr/local/lib/python3.10/dist-packages (5.15.0)\n",
            "Requirement already satisfied: tenacity>=6.2.0 in /usr/local/lib/python3.10/dist-packages (from plotly) (8.2.3)\n",
            "Requirement already satisfied: packaging in /usr/local/lib/python3.10/dist-packages (from plotly) (23.2)\n",
            "Collecting openai\n",
            "  Downloading openai-1.7.0-py3-none-any.whl (224 kB)\n",
            "\u001b[2K     \u001b[90m━━━━━━━━━━━━━━━━━━━━━━━━━━━━━━━━━━━━━━━━\u001b[0m \u001b[32m224.7/224.7 kB\u001b[0m \u001b[31m4.1 MB/s\u001b[0m eta \u001b[36m0:00:00\u001b[0m\n",
            "\u001b[?25hRequirement already satisfied: anyio<5,>=3.5.0 in /usr/local/lib/python3.10/dist-packages (from openai) (3.7.1)\n",
            "Requirement already satisfied: distro<2,>=1.7.0 in /usr/lib/python3/dist-packages (from openai) (1.7.0)\n",
            "Collecting httpx<1,>=0.23.0 (from openai)\n",
            "  Downloading httpx-0.26.0-py3-none-any.whl (75 kB)\n",
            "\u001b[2K     \u001b[90m━━━━━━━━━━━━━━━━━━━━━━━━━━━━━━━━━━━━━━━━\u001b[0m \u001b[32m75.9/75.9 kB\u001b[0m \u001b[31m9.0 MB/s\u001b[0m eta \u001b[36m0:00:00\u001b[0m\n",
            "\u001b[?25hRequirement already satisfied: pydantic<3,>=1.9.0 in /usr/local/lib/python3.10/dist-packages (from openai) (1.10.13)\n",
            "Requirement already satisfied: sniffio in /usr/local/lib/python3.10/dist-packages (from openai) (1.3.0)\n",
            "Requirement already satisfied: tqdm>4 in /usr/local/lib/python3.10/dist-packages (from openai) (4.66.1)\n",
            "Collecting typing-extensions<5,>=4.7 (from openai)\n",
            "  Downloading typing_extensions-4.9.0-py3-none-any.whl (32 kB)\n",
            "Requirement already satisfied: idna>=2.8 in /usr/local/lib/python3.10/dist-packages (from anyio<5,>=3.5.0->openai) (3.6)\n",
            "Requirement already satisfied: exceptiongroup in /usr/local/lib/python3.10/dist-packages (from anyio<5,>=3.5.0->openai) (1.2.0)\n",
            "Requirement already satisfied: certifi in /usr/local/lib/python3.10/dist-packages (from httpx<1,>=0.23.0->openai) (2023.11.17)\n",
            "Collecting httpcore==1.* (from httpx<1,>=0.23.0->openai)\n",
            "  Downloading httpcore-1.0.2-py3-none-any.whl (76 kB)\n",
            "\u001b[2K     \u001b[90m━━━━━━━━━━━━━━━━━━━━━━━━━━━━━━━━━━━━━━━━\u001b[0m \u001b[32m76.9/76.9 kB\u001b[0m \u001b[31m8.7 MB/s\u001b[0m eta \u001b[36m0:00:00\u001b[0m\n",
            "\u001b[?25hCollecting h11<0.15,>=0.13 (from httpcore==1.*->httpx<1,>=0.23.0->openai)\n",
            "  Downloading h11-0.14.0-py3-none-any.whl (58 kB)\n",
            "\u001b[2K     \u001b[90m━━━━━━━━━━━━━━━━━━━━━━━━━━━━━━━━━━━━━━━━\u001b[0m \u001b[32m58.3/58.3 kB\u001b[0m \u001b[31m5.5 MB/s\u001b[0m eta \u001b[36m0:00:00\u001b[0m\n",
            "\u001b[?25hInstalling collected packages: typing-extensions, h11, httpcore, httpx, openai\n",
            "  Attempting uninstall: typing-extensions\n",
            "    Found existing installation: typing_extensions 4.5.0\n",
            "    Uninstalling typing_extensions-4.5.0:\n",
            "      Successfully uninstalled typing_extensions-4.5.0\n",
            "\u001b[31mERROR: pip's dependency resolver does not currently take into account all the packages that are installed. This behaviour is the source of the following dependency conflicts.\n",
            "llmx 0.0.15a0 requires cohere, which is not installed.\n",
            "llmx 0.0.15a0 requires tiktoken, which is not installed.\n",
            "tensorflow-probability 0.22.0 requires typing-extensions<4.6.0, but you have typing-extensions 4.9.0 which is incompatible.\u001b[0m\u001b[31m\n",
            "\u001b[0mSuccessfully installed h11-0.14.0 httpcore-1.0.2 httpx-0.26.0 openai-1.7.0 typing-extensions-4.9.0\n"
          ]
        }
      ]
    },
    {
      "cell_type": "code",
      "source": [
        "import os\n",
        "import json\n",
        "from openai import OpenAI\n",
        "import time\n",
        "from google.colab import userdata\n",
        "\n",
        "# API keys are stored in Google Colab's Secret Manager\n",
        "OPENAI_API_KEY = userdata.get('OPENAI_API_KEY')\n",
        "os.environ[\"OPENAI_API_KEY\"] = OPENAI_API_KEY\n",
        "\n",
        "client = OpenAI()"
      ],
      "metadata": {
        "id": "Lt90ZC-NhoUC"
      },
      "execution_count": 3,
      "outputs": []
    },
    {
      "cell_type": "code",
      "source": [
        "# Define the main function\n",
        "def run_assistant():\n",
        "  # Creating an assistant with specific instructions and tools\n",
        "  assistant = client.beta.assistants.create(\n",
        "      instructions=\"You are a helpful travel assistant that can write and execute code, and has access to a digital map to display information\",\n",
        "      model=\"gpt-3.5-turbo-1106\",\n",
        "      tools=[\n",
        "          {\n",
        "              \"type\": \"function\",\n",
        "              \"function\": {\n",
        "                  \"name\": \"update_map\",\n",
        "                  \"parameters\": {\n",
        "                      \"type\": \"object\",\n",
        "                      \"properties\": {\n",
        "                          \"longitude\": {\"type\": \"number\"},\n",
        "                          \"latitude\": {\"type\": \"number\"},\n",
        "                          \"zoom\": {\"type\": \"integer\"}\n",
        "                      },\n",
        "                      \"required\": [\"longitude\", \"latitude\", \"zoom\"]\n",
        "                  }\n",
        "              }\n",
        "          },\n",
        "          {\n",
        "              \"type\": \"function\",\n",
        "              \"function\": {\n",
        "                  \"name\": \"add_marker\",\n",
        "                  \"parameters\": {\n",
        "                      \"type\": \"object\",\n",
        "                      \"properties\": {\n",
        "                          \"longitude\": {\"type\": \"number\"},\n",
        "                          \"latitude\": {\"type\": \"number\"},\n",
        "                          \"label\": { \"type\": \"string\"}\n",
        "                      },\n",
        "                  \"required\": [\"longitude\", \"latitude\", \"label\"]\n",
        "                  }\n",
        "              }\n",
        "          }\n",
        "      ]\n",
        "  )\n",
        "  return assistant.id"
      ],
      "metadata": {
        "id": "Y8TZLoH5pWoe"
      },
      "execution_count": 4,
      "outputs": []
    },
    {
      "cell_type": "code",
      "source": [
        "assistant_id = run_assistant()"
      ],
      "metadata": {
        "id": "4v1b_5nh55rh"
      },
      "execution_count": 5,
      "outputs": []
    },
    {
      "cell_type": "code",
      "source": [
        "# Define functions\n",
        "def update_map(latitude, longitude, zoom):\n",
        "    #Move the Plotly map to give coordinates\n",
        "    st.session_state[\"map\"] = {\n",
        "        \"latitude\": latitude,\n",
        "        \"longitude\": longitude,\n",
        "        \"zoom\": zoom,\n",
        "    }\n",
        "    return \"Map updated\"\n",
        "\n",
        "def add_marker(latitude, longitude, label):\n",
        "    #Add markers on the Plotly map\n",
        "    st.session_state[\"markers\"] = {\n",
        "        \"latitude\": latitude,\n",
        "        \"longitude\": longitude,\n",
        "        \"label\": label,\n",
        "    }\n",
        "    return \"Marker added\""
      ],
      "metadata": {
        "id": "aVHy4JK5ng7i"
      },
      "execution_count": 6,
      "outputs": []
    },
    {
      "cell_type": "code",
      "source": [
        "# Map available functions\n",
        "available_functions = {\n",
        "    \"update_map\": update_map,\n",
        "    \"add_marker\": add_marker\n",
        "}"
      ],
      "metadata": {
        "id": "Q4Bc7wW3xCTB"
      },
      "execution_count": 7,
      "outputs": []
    },
    {
      "cell_type": "code",
      "source": [
        "import streamlit as st\n",
        "#Store global variables in session and reuse through the app\n",
        "def initialize_session_state():\n",
        "    if st.session_state is None:\n",
        "      st.session_state = {}\n",
        "\n",
        "    #Initialize an empty conversation\n",
        "    if \"conversation\" not in st.session_state:\n",
        "      st.session_state[\"conversation\"] = []\n",
        "\n",
        "    #Initialize map coordinates\n",
        "    if \"map\" not in st.session_state:\n",
        "      st.session_state[\"map\"] = {\n",
        "        \"latitude\": 30.3753,\n",
        "        \"longitude\": 69.3451,\n",
        "        \"zoom\": 16,\n",
        "    }\n",
        "\n",
        "    #Prepare reference to OpenAI Objects\n",
        "    if \"assistant\" not in st.session_state:\n",
        "      st.session_state[\"assistant\"] = client.beta.assistants.retrieve(assistant_id)\n",
        "      st.session_state[\"thread\"] = client.beta.threads.create()\n",
        "      st.session_state[\"run\"] = None\n",
        "\n",
        "    if \"markers\" not in st.session_state:\n",
        "      st.session_state[\"markers\"] = None\n",
        "\n",
        "initialize_session_state()"
      ],
      "metadata": {
        "id": "GYV3X4JNBrgv"
      },
      "execution_count": 9,
      "outputs": []
    },
    {
      "cell_type": "code",
      "source": [
        "st.session_state"
      ],
      "metadata": {
        "colab": {
          "base_uri": "https://localhost:8080/"
        },
        "id": "pe8xDyeoqUQm",
        "outputId": "9798c60a-4b1c-484d-d2f3-5986926df541"
      },
      "execution_count": 10,
      "outputs": [
        {
          "output_type": "execute_result",
          "data": {
            "text/plain": [
              "<streamlit.runtime.state.session_state_proxy.SessionStateProxy at 0x7f3f895b8e50>"
            ]
          },
          "metadata": {},
          "execution_count": 10
        }
      ]
    },
    {
      "cell_type": "code",
      "source": [
        "# Adding a user message to the thread\n",
        "user_messsage = \"Take me to Germany!\"\n",
        "\n",
        "def create_message(user_messsage):\n",
        "  messages = client.beta.threads.messages.create(\n",
        "        thread_id=st.session_state[\"thread\"].id,\n",
        "        role=\"user\",\n",
        "        content=user_messsage\n",
        "  )\n",
        "  return messages.id\n",
        "\n",
        "message_id = create_message(user_messsage)"
      ],
      "metadata": {
        "collapsed": true,
        "id": "NP5qHWEO77g8"
      },
      "execution_count": null,
      "outputs": []
    },
    {
      "cell_type": "code",
      "source": [
        "def create_run():\n",
        "  st.session_state[\"run\"] = client.beta.threads.runs.create(\n",
        "      thread_id=st.session_state[\"thread\"].id,\n",
        "      assistant_id=st.session_state[\"assistant\"].id\n",
        "  )\n",
        "create_run()"
      ],
      "metadata": {
        "id": "1RcQY-RJ8nnX"
      },
      "execution_count": null,
      "outputs": []
    },
    {
      "cell_type": "code",
      "source": [
        "def poll_run_status():\n",
        "  # Loop until the run completes or requires action\n",
        "  while True:\n",
        "    run = client.beta.threads.runs.retrieve(thread_id=st.session_state[\"thread\"].id, run_id=st.session_state[\"run\"].id)\n",
        "\n",
        "    # Add run steps retrieval here\n",
        "    run_steps = client.beta.threads.runs.steps.list(thread_id=st.session_state[\"thread\"].id, run_id=st.session_state[\"run\"].id)\n",
        "    print(\"Run Steps:\", run_steps)\n",
        "\n",
        "    if run.status == \"requires_action\":\n",
        "        tool_calls = run.required_action.submit_tool_outputs.tool_calls\n",
        "        tool_outputs = []\n",
        "\n",
        "        for tool_call in tool_calls:\n",
        "            function_name = tool_call.function.name\n",
        "            function_args = json.loads(tool_call.function.arguments)\n",
        "\n",
        "            if function_name in available_functions:\n",
        "                function_to_call = available_functions[function_name]\n",
        "                output = function_to_call(**function_args)\n",
        "                tool_outputs.append({\n",
        "                    \"tool_call_id\": tool_call.id,\n",
        "                    \"output\": output,\n",
        "                })\n",
        "\n",
        "        # Submit tool outputs and update the run\n",
        "        client.beta.threads.runs.submit_tool_outputs(\n",
        "            thread_id=st.session_state[\"thread\"].id,\n",
        "            run_id=st.session_state[\"run\"].id,\n",
        "            tool_outputs=tool_outputs\n",
        "        )\n",
        "\n",
        "    elif run.status == \"completed\":\n",
        "        # List the messages to get the response\n",
        "        messages = client.beta.threads.messages.list(thread_id=st.session_state[\"thread\"].id)\n",
        "        for message in messages.data:\n",
        "            role_label = \"User\" if message.role == \"user\" else \"Assistant\"\n",
        "            message_content = message.content[0].text.value\n",
        "            print(f\"{role_label}: {message_content}\\n\")\n",
        "        break  # Exit the loop after processing the completed run\n",
        "\n",
        "    elif run.status == \"failed\":\n",
        "        print(\"Run failed.\")\n",
        "        break\n",
        "\n",
        "    elif run.status in [\"in_progress\", \"queued\"]:\n",
        "        print(f\"Run is {run.status}. Waiting...\")\n",
        "        time.sleep(0.1)  # Wait for 0.1 seconds before checking again\n",
        "\n",
        "    else:\n",
        "        print(f\"Unexpected status: {run.status}\")\n",
        "        break\n",
        "\n",
        "poll_run_status()"
      ],
      "metadata": {
        "colab": {
          "base_uri": "https://localhost:8080/"
        },
        "id": "Kog-XXbo9N2c",
        "outputId": "1c192144-2ca7-4772-80a0-793d404ce79b"
      },
      "execution_count": null,
      "outputs": [
        {
          "output_type": "stream",
          "name": "stdout",
          "text": [
            "Run Steps: SyncCursorPage[RunStep](data=[RunStep(id='step_zepIv8AHwHNKEwiYWOzOPjVP', assistant_id='asst_WQkoiHUNGIdzoIrLQcSovfOd', cancelled_at=None, completed_at=None, created_at=1704810381, expired_at=None, failed_at=None, last_error=None, metadata=None, object='thread.run.step', run_id='run_p5c6XN2Ap08SBlkGACQjbonX', status='in_progress', step_details=ToolCallsStepDetails(tool_calls=[], type='tool_calls'), thread_id='thread_zLKR1CQrHa3oZ1rKaV8Dwfjp', type='tool_calls', expires_at=1704810979)], object='list', first_id='step_zepIv8AHwHNKEwiYWOzOPjVP', last_id='step_zepIv8AHwHNKEwiYWOzOPjVP', has_more=False)\n",
            "Run is in_progress. Waiting...\n",
            "Run Steps: SyncCursorPage[RunStep](data=[RunStep(id='step_zepIv8AHwHNKEwiYWOzOPjVP', assistant_id='asst_WQkoiHUNGIdzoIrLQcSovfOd', cancelled_at=None, completed_at=None, created_at=1704810381, expired_at=None, failed_at=None, last_error=None, metadata=None, object='thread.run.step', run_id='run_p5c6XN2Ap08SBlkGACQjbonX', status='in_progress', step_details=ToolCallsStepDetails(tool_calls=[], type='tool_calls'), thread_id='thread_zLKR1CQrHa3oZ1rKaV8Dwfjp', type='tool_calls', expires_at=1704810979)], object='list', first_id='step_zepIv8AHwHNKEwiYWOzOPjVP', last_id='step_zepIv8AHwHNKEwiYWOzOPjVP', has_more=False)\n",
            "Run is in_progress. Waiting...\n",
            "Run Steps: SyncCursorPage[RunStep](data=[RunStep(id='step_zepIv8AHwHNKEwiYWOzOPjVP', assistant_id='asst_WQkoiHUNGIdzoIrLQcSovfOd', cancelled_at=None, completed_at=None, created_at=1704810381, expired_at=None, failed_at=None, last_error=None, metadata=None, object='thread.run.step', run_id='run_p5c6XN2Ap08SBlkGACQjbonX', status='in_progress', step_details=ToolCallsStepDetails(tool_calls=[FunctionToolCall(id='call_CiUOCaA1eOxhQsfuKjmtcbHT', function=Function(arguments='{\"longitude\": 9.9976, \"latitude\": 51.3396, \"zoom\": 6}', name='update_map', output=None), type='function'), FunctionToolCall(id='call_G4lFq8d2TNuTITI3yUW5OUgQ', function=Function(arguments='{\"longitude\": 9.9976, \"latitude\": 51.3396, \"label\": \"Welcome to Germany\"}', name='add_marker', output=None), type='function')], type='tool_calls'), thread_id='thread_zLKR1CQrHa3oZ1rKaV8Dwfjp', type='tool_calls', expires_at=1704810979)], object='list', first_id='step_zepIv8AHwHNKEwiYWOzOPjVP', last_id='step_zepIv8AHwHNKEwiYWOzOPjVP', has_more=False)\n",
            "Run is in_progress. Waiting...\n",
            "Run Steps: SyncCursorPage[RunStep](data=[RunStep(id='step_zepIv8AHwHNKEwiYWOzOPjVP', assistant_id='asst_WQkoiHUNGIdzoIrLQcSovfOd', cancelled_at=None, completed_at=None, created_at=1704810381, expired_at=None, failed_at=None, last_error=None, metadata=None, object='thread.run.step', run_id='run_p5c6XN2Ap08SBlkGACQjbonX', status='in_progress', step_details=ToolCallsStepDetails(tool_calls=[FunctionToolCall(id='call_CiUOCaA1eOxhQsfuKjmtcbHT', function=Function(arguments='{\"longitude\": 9.9976, \"latitude\": 51.3396, \"zoom\": 6}', name='update_map', output=None), type='function'), FunctionToolCall(id='call_G4lFq8d2TNuTITI3yUW5OUgQ', function=Function(arguments='{\"longitude\": 9.9976, \"latitude\": 51.3396, \"label\": \"Welcome to Germany\"}', name='add_marker', output=None), type='function')], type='tool_calls'), thread_id='thread_zLKR1CQrHa3oZ1rKaV8Dwfjp', type='tool_calls', expires_at=1704810979)], object='list', first_id='step_zepIv8AHwHNKEwiYWOzOPjVP', last_id='step_zepIv8AHwHNKEwiYWOzOPjVP', has_more=False)\n",
            "Run Steps: SyncCursorPage[RunStep](data=[RunStep(id='step_zepIv8AHwHNKEwiYWOzOPjVP', assistant_id='asst_WQkoiHUNGIdzoIrLQcSovfOd', cancelled_at=None, completed_at=1704810384, created_at=1704810381, expired_at=None, failed_at=None, last_error=None, metadata=None, object='thread.run.step', run_id='run_p5c6XN2Ap08SBlkGACQjbonX', status='completed', step_details=ToolCallsStepDetails(tool_calls=[FunctionToolCall(id='call_CiUOCaA1eOxhQsfuKjmtcbHT', function=Function(arguments='{\"longitude\": 9.9976, \"latitude\": 51.3396, \"zoom\": 6}', name='update_map', output='Map updated'), type='function'), FunctionToolCall(id='call_G4lFq8d2TNuTITI3yUW5OUgQ', function=Function(arguments='{\"longitude\": 9.9976, \"latitude\": 51.3396, \"label\": \"Welcome to Germany\"}', name='add_marker', output='Marker added'), type='function')], type='tool_calls'), thread_id='thread_zLKR1CQrHa3oZ1rKaV8Dwfjp', type='tool_calls', expires_at=1704810979)], object='list', first_id='step_zepIv8AHwHNKEwiYWOzOPjVP', last_id='step_zepIv8AHwHNKEwiYWOzOPjVP', has_more=False)\n",
            "Run is queued. Waiting...\n",
            "Run Steps: SyncCursorPage[RunStep](data=[RunStep(id='step_zepIv8AHwHNKEwiYWOzOPjVP', assistant_id='asst_WQkoiHUNGIdzoIrLQcSovfOd', cancelled_at=None, completed_at=1704810384, created_at=1704810381, expired_at=None, failed_at=None, last_error=None, metadata=None, object='thread.run.step', run_id='run_p5c6XN2Ap08SBlkGACQjbonX', status='completed', step_details=ToolCallsStepDetails(tool_calls=[FunctionToolCall(id='call_CiUOCaA1eOxhQsfuKjmtcbHT', function=Function(arguments='{\"longitude\": 9.9976, \"latitude\": 51.3396, \"zoom\": 6}', name='update_map', output='Map updated'), type='function'), FunctionToolCall(id='call_G4lFq8d2TNuTITI3yUW5OUgQ', function=Function(arguments='{\"longitude\": 9.9976, \"latitude\": 51.3396, \"label\": \"Welcome to Germany\"}', name='add_marker', output='Marker added'), type='function')], type='tool_calls'), thread_id='thread_zLKR1CQrHa3oZ1rKaV8Dwfjp', type='tool_calls', expires_at=1704810979)], object='list', first_id='step_zepIv8AHwHNKEwiYWOzOPjVP', last_id='step_zepIv8AHwHNKEwiYWOzOPjVP', has_more=False)\n",
            "Run is in_progress. Waiting...\n",
            "Run Steps: SyncCursorPage[RunStep](data=[RunStep(id='step_zepIv8AHwHNKEwiYWOzOPjVP', assistant_id='asst_WQkoiHUNGIdzoIrLQcSovfOd', cancelled_at=None, completed_at=1704810384, created_at=1704810381, expired_at=None, failed_at=None, last_error=None, metadata=None, object='thread.run.step', run_id='run_p5c6XN2Ap08SBlkGACQjbonX', status='completed', step_details=ToolCallsStepDetails(tool_calls=[FunctionToolCall(id='call_CiUOCaA1eOxhQsfuKjmtcbHT', function=Function(arguments='{\"longitude\": 9.9976, \"latitude\": 51.3396, \"zoom\": 6}', name='update_map', output='Map updated'), type='function'), FunctionToolCall(id='call_G4lFq8d2TNuTITI3yUW5OUgQ', function=Function(arguments='{\"longitude\": 9.9976, \"latitude\": 51.3396, \"label\": \"Welcome to Germany\"}', name='add_marker', output='Marker added'), type='function')], type='tool_calls'), thread_id='thread_zLKR1CQrHa3oZ1rKaV8Dwfjp', type='tool_calls', expires_at=1704810979)], object='list', first_id='step_zepIv8AHwHNKEwiYWOzOPjVP', last_id='step_zepIv8AHwHNKEwiYWOzOPjVP', has_more=False)\n",
            "Run is in_progress. Waiting...\n",
            "Run Steps: SyncCursorPage[RunStep](data=[RunStep(id='step_zepIv8AHwHNKEwiYWOzOPjVP', assistant_id='asst_WQkoiHUNGIdzoIrLQcSovfOd', cancelled_at=None, completed_at=1704810384, created_at=1704810381, expired_at=None, failed_at=None, last_error=None, metadata=None, object='thread.run.step', run_id='run_p5c6XN2Ap08SBlkGACQjbonX', status='completed', step_details=ToolCallsStepDetails(tool_calls=[FunctionToolCall(id='call_CiUOCaA1eOxhQsfuKjmtcbHT', function=Function(arguments='{\"longitude\": 9.9976, \"latitude\": 51.3396, \"zoom\": 6}', name='update_map', output='Map updated'), type='function'), FunctionToolCall(id='call_G4lFq8d2TNuTITI3yUW5OUgQ', function=Function(arguments='{\"longitude\": 9.9976, \"latitude\": 51.3396, \"label\": \"Welcome to Germany\"}', name='add_marker', output='Marker added'), type='function')], type='tool_calls'), thread_id='thread_zLKR1CQrHa3oZ1rKaV8Dwfjp', type='tool_calls', expires_at=1704810979)], object='list', first_id='step_zepIv8AHwHNKEwiYWOzOPjVP', last_id='step_zepIv8AHwHNKEwiYWOzOPjVP', has_more=False)\n",
            "Run is in_progress. Waiting...\n",
            "Run Steps: SyncCursorPage[RunStep](data=[RunStep(id='step_zepIv8AHwHNKEwiYWOzOPjVP', assistant_id='asst_WQkoiHUNGIdzoIrLQcSovfOd', cancelled_at=None, completed_at=1704810384, created_at=1704810381, expired_at=None, failed_at=None, last_error=None, metadata=None, object='thread.run.step', run_id='run_p5c6XN2Ap08SBlkGACQjbonX', status='completed', step_details=ToolCallsStepDetails(tool_calls=[FunctionToolCall(id='call_CiUOCaA1eOxhQsfuKjmtcbHT', function=Function(arguments='{\"longitude\": 9.9976, \"latitude\": 51.3396, \"zoom\": 6}', name='update_map', output='Map updated'), type='function'), FunctionToolCall(id='call_G4lFq8d2TNuTITI3yUW5OUgQ', function=Function(arguments='{\"longitude\": 9.9976, \"latitude\": 51.3396, \"label\": \"Welcome to Germany\"}', name='add_marker', output='Marker added'), type='function')], type='tool_calls'), thread_id='thread_zLKR1CQrHa3oZ1rKaV8Dwfjp', type='tool_calls', expires_at=1704810979)], object='list', first_id='step_zepIv8AHwHNKEwiYWOzOPjVP', last_id='step_zepIv8AHwHNKEwiYWOzOPjVP', has_more=False)\n",
            "Run is in_progress. Waiting...\n",
            "Run Steps: SyncCursorPage[RunStep](data=[RunStep(id='step_zepIv8AHwHNKEwiYWOzOPjVP', assistant_id='asst_WQkoiHUNGIdzoIrLQcSovfOd', cancelled_at=None, completed_at=1704810384, created_at=1704810381, expired_at=None, failed_at=None, last_error=None, metadata=None, object='thread.run.step', run_id='run_p5c6XN2Ap08SBlkGACQjbonX', status='completed', step_details=ToolCallsStepDetails(tool_calls=[FunctionToolCall(id='call_CiUOCaA1eOxhQsfuKjmtcbHT', function=Function(arguments='{\"longitude\": 9.9976, \"latitude\": 51.3396, \"zoom\": 6}', name='update_map', output='Map updated'), type='function'), FunctionToolCall(id='call_G4lFq8d2TNuTITI3yUW5OUgQ', function=Function(arguments='{\"longitude\": 9.9976, \"latitude\": 51.3396, \"label\": \"Welcome to Germany\"}', name='add_marker', output='Marker added'), type='function')], type='tool_calls'), thread_id='thread_zLKR1CQrHa3oZ1rKaV8Dwfjp', type='tool_calls', expires_at=1704810979)], object='list', first_id='step_zepIv8AHwHNKEwiYWOzOPjVP', last_id='step_zepIv8AHwHNKEwiYWOzOPjVP', has_more=False)\n",
            "Run is in_progress. Waiting...\n",
            "Run Steps: SyncCursorPage[RunStep](data=[RunStep(id='step_zepIv8AHwHNKEwiYWOzOPjVP', assistant_id='asst_WQkoiHUNGIdzoIrLQcSovfOd', cancelled_at=None, completed_at=1704810384, created_at=1704810381, expired_at=None, failed_at=None, last_error=None, metadata=None, object='thread.run.step', run_id='run_p5c6XN2Ap08SBlkGACQjbonX', status='completed', step_details=ToolCallsStepDetails(tool_calls=[FunctionToolCall(id='call_CiUOCaA1eOxhQsfuKjmtcbHT', function=Function(arguments='{\"longitude\": 9.9976, \"latitude\": 51.3396, \"zoom\": 6}', name='update_map', output='Map updated'), type='function'), FunctionToolCall(id='call_G4lFq8d2TNuTITI3yUW5OUgQ', function=Function(arguments='{\"longitude\": 9.9976, \"latitude\": 51.3396, \"label\": \"Welcome to Germany\"}', name='add_marker', output='Marker added'), type='function')], type='tool_calls'), thread_id='thread_zLKR1CQrHa3oZ1rKaV8Dwfjp', type='tool_calls', expires_at=1704810979)], object='list', first_id='step_zepIv8AHwHNKEwiYWOzOPjVP', last_id='step_zepIv8AHwHNKEwiYWOzOPjVP', has_more=False)\n",
            "Run is in_progress. Waiting...\n",
            "Run Steps: SyncCursorPage[RunStep](data=[RunStep(id='step_zepIv8AHwHNKEwiYWOzOPjVP', assistant_id='asst_WQkoiHUNGIdzoIrLQcSovfOd', cancelled_at=None, completed_at=1704810384, created_at=1704810381, expired_at=None, failed_at=None, last_error=None, metadata=None, object='thread.run.step', run_id='run_p5c6XN2Ap08SBlkGACQjbonX', status='completed', step_details=ToolCallsStepDetails(tool_calls=[FunctionToolCall(id='call_CiUOCaA1eOxhQsfuKjmtcbHT', function=Function(arguments='{\"longitude\": 9.9976, \"latitude\": 51.3396, \"zoom\": 6}', name='update_map', output='Map updated'), type='function'), FunctionToolCall(id='call_G4lFq8d2TNuTITI3yUW5OUgQ', function=Function(arguments='{\"longitude\": 9.9976, \"latitude\": 51.3396, \"label\": \"Welcome to Germany\"}', name='add_marker', output='Marker added'), type='function')], type='tool_calls'), thread_id='thread_zLKR1CQrHa3oZ1rKaV8Dwfjp', type='tool_calls', expires_at=1704810979)], object='list', first_id='step_zepIv8AHwHNKEwiYWOzOPjVP', last_id='step_zepIv8AHwHNKEwiYWOzOPjVP', has_more=False)\n",
            "Run is in_progress. Waiting...\n",
            "Run Steps: SyncCursorPage[RunStep](data=[RunStep(id='step_zepIv8AHwHNKEwiYWOzOPjVP', assistant_id='asst_WQkoiHUNGIdzoIrLQcSovfOd', cancelled_at=None, completed_at=1704810384, created_at=1704810381, expired_at=None, failed_at=None, last_error=None, metadata=None, object='thread.run.step', run_id='run_p5c6XN2Ap08SBlkGACQjbonX', status='completed', step_details=ToolCallsStepDetails(tool_calls=[FunctionToolCall(id='call_CiUOCaA1eOxhQsfuKjmtcbHT', function=Function(arguments='{\"longitude\": 9.9976, \"latitude\": 51.3396, \"zoom\": 6}', name='update_map', output='Map updated'), type='function'), FunctionToolCall(id='call_G4lFq8d2TNuTITI3yUW5OUgQ', function=Function(arguments='{\"longitude\": 9.9976, \"latitude\": 51.3396, \"label\": \"Welcome to Germany\"}', name='add_marker', output='Marker added'), type='function')], type='tool_calls'), thread_id='thread_zLKR1CQrHa3oZ1rKaV8Dwfjp', type='tool_calls', expires_at=1704810979)], object='list', first_id='step_zepIv8AHwHNKEwiYWOzOPjVP', last_id='step_zepIv8AHwHNKEwiYWOzOPjVP', has_more=False)\n",
            "Run is in_progress. Waiting...\n",
            "Run Steps: SyncCursorPage[RunStep](data=[RunStep(id='step_zepIv8AHwHNKEwiYWOzOPjVP', assistant_id='asst_WQkoiHUNGIdzoIrLQcSovfOd', cancelled_at=None, completed_at=1704810384, created_at=1704810381, expired_at=None, failed_at=None, last_error=None, metadata=None, object='thread.run.step', run_id='run_p5c6XN2Ap08SBlkGACQjbonX', status='completed', step_details=ToolCallsStepDetails(tool_calls=[FunctionToolCall(id='call_CiUOCaA1eOxhQsfuKjmtcbHT', function=Function(arguments='{\"longitude\": 9.9976, \"latitude\": 51.3396, \"zoom\": 6}', name='update_map', output='Map updated'), type='function'), FunctionToolCall(id='call_G4lFq8d2TNuTITI3yUW5OUgQ', function=Function(arguments='{\"longitude\": 9.9976, \"latitude\": 51.3396, \"label\": \"Welcome to Germany\"}', name='add_marker', output='Marker added'), type='function')], type='tool_calls'), thread_id='thread_zLKR1CQrHa3oZ1rKaV8Dwfjp', type='tool_calls', expires_at=1704810979)], object='list', first_id='step_zepIv8AHwHNKEwiYWOzOPjVP', last_id='step_zepIv8AHwHNKEwiYWOzOPjVP', has_more=False)\n",
            "Run is in_progress. Waiting...\n",
            "Run Steps: SyncCursorPage[RunStep](data=[RunStep(id='step_JA1tWb6Yv4EzHFUAaJfDA9Ru', assistant_id='asst_WQkoiHUNGIdzoIrLQcSovfOd', cancelled_at=None, completed_at=None, created_at=1704810387, expired_at=None, failed_at=None, last_error=None, metadata=None, object='thread.run.step', run_id='run_p5c6XN2Ap08SBlkGACQjbonX', status='in_progress', step_details=MessageCreationStepDetails(message_creation=MessageCreation(message_id='msg_zB3rLFpxk5ttGNqFNDviat99'), type='message_creation'), thread_id='thread_zLKR1CQrHa3oZ1rKaV8Dwfjp', type='message_creation', expires_at=1704810979), RunStep(id='step_zepIv8AHwHNKEwiYWOzOPjVP', assistant_id='asst_WQkoiHUNGIdzoIrLQcSovfOd', cancelled_at=None, completed_at=1704810384, created_at=1704810381, expired_at=None, failed_at=None, last_error=None, metadata=None, object='thread.run.step', run_id='run_p5c6XN2Ap08SBlkGACQjbonX', status='completed', step_details=ToolCallsStepDetails(tool_calls=[FunctionToolCall(id='call_CiUOCaA1eOxhQsfuKjmtcbHT', function=Function(arguments='{\"longitude\": 9.9976, \"latitude\": 51.3396, \"zoom\": 6}', name='update_map', output='Map updated'), type='function'), FunctionToolCall(id='call_G4lFq8d2TNuTITI3yUW5OUgQ', function=Function(arguments='{\"longitude\": 9.9976, \"latitude\": 51.3396, \"label\": \"Welcome to Germany\"}', name='add_marker', output='Marker added'), type='function')], type='tool_calls'), thread_id='thread_zLKR1CQrHa3oZ1rKaV8Dwfjp', type='tool_calls', expires_at=1704810979)], object='list', first_id='step_JA1tWb6Yv4EzHFUAaJfDA9Ru', last_id='step_zepIv8AHwHNKEwiYWOzOPjVP', has_more=False)\n",
            "Run is in_progress. Waiting...\n",
            "Run Steps: SyncCursorPage[RunStep](data=[RunStep(id='step_JA1tWb6Yv4EzHFUAaJfDA9Ru', assistant_id='asst_WQkoiHUNGIdzoIrLQcSovfOd', cancelled_at=None, completed_at=None, created_at=1704810387, expired_at=None, failed_at=None, last_error=None, metadata=None, object='thread.run.step', run_id='run_p5c6XN2Ap08SBlkGACQjbonX', status='in_progress', step_details=MessageCreationStepDetails(message_creation=MessageCreation(message_id='msg_zB3rLFpxk5ttGNqFNDviat99'), type='message_creation'), thread_id='thread_zLKR1CQrHa3oZ1rKaV8Dwfjp', type='message_creation', expires_at=1704810979), RunStep(id='step_zepIv8AHwHNKEwiYWOzOPjVP', assistant_id='asst_WQkoiHUNGIdzoIrLQcSovfOd', cancelled_at=None, completed_at=1704810384, created_at=1704810381, expired_at=None, failed_at=None, last_error=None, metadata=None, object='thread.run.step', run_id='run_p5c6XN2Ap08SBlkGACQjbonX', status='completed', step_details=ToolCallsStepDetails(tool_calls=[FunctionToolCall(id='call_CiUOCaA1eOxhQsfuKjmtcbHT', function=Function(arguments='{\"longitude\": 9.9976, \"latitude\": 51.3396, \"zoom\": 6}', name='update_map', output='Map updated'), type='function'), FunctionToolCall(id='call_G4lFq8d2TNuTITI3yUW5OUgQ', function=Function(arguments='{\"longitude\": 9.9976, \"latitude\": 51.3396, \"label\": \"Welcome to Germany\"}', name='add_marker', output='Marker added'), type='function')], type='tool_calls'), thread_id='thread_zLKR1CQrHa3oZ1rKaV8Dwfjp', type='tool_calls', expires_at=1704810979)], object='list', first_id='step_JA1tWb6Yv4EzHFUAaJfDA9Ru', last_id='step_zepIv8AHwHNKEwiYWOzOPjVP', has_more=False)\n",
            "Run is in_progress. Waiting...\n",
            "Run Steps: SyncCursorPage[RunStep](data=[RunStep(id='step_JA1tWb6Yv4EzHFUAaJfDA9Ru', assistant_id='asst_WQkoiHUNGIdzoIrLQcSovfOd', cancelled_at=None, completed_at=None, created_at=1704810387, expired_at=None, failed_at=None, last_error=None, metadata=None, object='thread.run.step', run_id='run_p5c6XN2Ap08SBlkGACQjbonX', status='in_progress', step_details=MessageCreationStepDetails(message_creation=MessageCreation(message_id='msg_zB3rLFpxk5ttGNqFNDviat99'), type='message_creation'), thread_id='thread_zLKR1CQrHa3oZ1rKaV8Dwfjp', type='message_creation', expires_at=1704810979), RunStep(id='step_zepIv8AHwHNKEwiYWOzOPjVP', assistant_id='asst_WQkoiHUNGIdzoIrLQcSovfOd', cancelled_at=None, completed_at=1704810384, created_at=1704810381, expired_at=None, failed_at=None, last_error=None, metadata=None, object='thread.run.step', run_id='run_p5c6XN2Ap08SBlkGACQjbonX', status='completed', step_details=ToolCallsStepDetails(tool_calls=[FunctionToolCall(id='call_CiUOCaA1eOxhQsfuKjmtcbHT', function=Function(arguments='{\"longitude\": 9.9976, \"latitude\": 51.3396, \"zoom\": 6}', name='update_map', output='Map updated'), type='function'), FunctionToolCall(id='call_G4lFq8d2TNuTITI3yUW5OUgQ', function=Function(arguments='{\"longitude\": 9.9976, \"latitude\": 51.3396, \"label\": \"Welcome to Germany\"}', name='add_marker', output='Marker added'), type='function')], type='tool_calls'), thread_id='thread_zLKR1CQrHa3oZ1rKaV8Dwfjp', type='tool_calls', expires_at=1704810979)], object='list', first_id='step_JA1tWb6Yv4EzHFUAaJfDA9Ru', last_id='step_zepIv8AHwHNKEwiYWOzOPjVP', has_more=False)\n",
            "Run is in_progress. Waiting...\n",
            "Run Steps: SyncCursorPage[RunStep](data=[RunStep(id='step_JA1tWb6Yv4EzHFUAaJfDA9Ru', assistant_id='asst_WQkoiHUNGIdzoIrLQcSovfOd', cancelled_at=None, completed_at=1704810388, created_at=1704810387, expired_at=None, failed_at=None, last_error=None, metadata=None, object='thread.run.step', run_id='run_p5c6XN2Ap08SBlkGACQjbonX', status='completed', step_details=MessageCreationStepDetails(message_creation=MessageCreation(message_id='msg_zB3rLFpxk5ttGNqFNDviat99'), type='message_creation'), thread_id='thread_zLKR1CQrHa3oZ1rKaV8Dwfjp', type='message_creation', expires_at=None), RunStep(id='step_zepIv8AHwHNKEwiYWOzOPjVP', assistant_id='asst_WQkoiHUNGIdzoIrLQcSovfOd', cancelled_at=None, completed_at=1704810384, created_at=1704810381, expired_at=None, failed_at=None, last_error=None, metadata=None, object='thread.run.step', run_id='run_p5c6XN2Ap08SBlkGACQjbonX', status='completed', step_details=ToolCallsStepDetails(tool_calls=[FunctionToolCall(id='call_CiUOCaA1eOxhQsfuKjmtcbHT', function=Function(arguments='{\"longitude\": 9.9976, \"latitude\": 51.3396, \"zoom\": 6}', name='update_map', output='Map updated'), type='function'), FunctionToolCall(id='call_G4lFq8d2TNuTITI3yUW5OUgQ', function=Function(arguments='{\"longitude\": 9.9976, \"latitude\": 51.3396, \"label\": \"Welcome to Germany\"}', name='add_marker', output='Marker added'), type='function')], type='tool_calls'), thread_id='thread_zLKR1CQrHa3oZ1rKaV8Dwfjp', type='tool_calls', expires_at=None)], object='list', first_id='step_JA1tWb6Yv4EzHFUAaJfDA9Ru', last_id='step_zepIv8AHwHNKEwiYWOzOPjVP', has_more=False)\n",
            "Assistant: We've arrived in Germany! Is there a specific city or landmark you'd like to visit while we're here? Let me know how I can assist you further!\n",
            "\n",
            "User: Take me to Germany!\n",
            "\n",
            "Assistant: In Paris, there are many iconic landmarks and attractions to visit, such as the Eiffel Tower, the Louvre Museum, Notre-Dame Cathedral, and Montmartre. You may also want to take a leisurely stroll along the Seine River or explore the charming neighborhoods and cafes. Let me know if you'd like more details about any of these suggestions or if there's anything specific you're interested in!\n",
            "\n",
            "User: Suggest what I should do in Paris?\n",
            "\n",
            "Assistant: We're all set to explore Paris! What would you like to do first?\n",
            "\n",
            "User: Let's go to Paris\n",
            "\n"
          ]
        }
      ]
    },
    {
      "cell_type": "code",
      "source": [
        "def add_chat_msg():\n",
        "  st.session_state[\"conversation\"] = [\n",
        "      (m.role, m.content[0].text.value) for m in client.beta.threads.messages.list(st.session_state[\"thread\"].id).data\n",
        "  ]\n",
        "\n",
        "add_chat_msg()"
      ],
      "metadata": {
        "id": "138Vpg7f-i6Y"
      },
      "execution_count": null,
      "outputs": []
    },
    {
      "cell_type": "code",
      "source": [
        "st.session_state[\"conversation\"]"
      ],
      "metadata": {
        "colab": {
          "base_uri": "https://localhost:8080/"
        },
        "id": "T8aDI7RsBRb0",
        "outputId": "e697d1ee-c1fe-4d58-e2a8-7be2f0ea79bb"
      },
      "execution_count": null,
      "outputs": [
        {
          "output_type": "execute_result",
          "data": {
            "text/plain": [
              "[('assistant',\n",
              "  \"We've arrived in Germany! Is there a specific city or landmark you'd like to visit while we're here? Let me know how I can assist you further!\"),\n",
              " ('user', 'Take me to Germany!'),\n",
              " ('assistant',\n",
              "  \"In Paris, there are many iconic landmarks and attractions to visit, such as the Eiffel Tower, the Louvre Museum, Notre-Dame Cathedral, and Montmartre. You may also want to take a leisurely stroll along the Seine River or explore the charming neighborhoods and cafes. Let me know if you'd like more details about any of these suggestions or if there's anything specific you're interested in!\"),\n",
              " ('user', 'Suggest what I should do in Paris?'),\n",
              " ('assistant',\n",
              "  \"We're all set to explore Paris! What would you like to do first?\"),\n",
              " ('user', \"Let's go to Paris\")]"
            ]
          },
          "metadata": {},
          "execution_count": 79
        }
      ]
    },
    {
      "cell_type": "code",
      "source": [
        "#Create UI for Assistant\n",
        "import plotly.graph_objects as go\n",
        "\n",
        "initialize_session_state()\n",
        "\n",
        "def on_text_input():\n",
        "  #Push message to conversation\n",
        "  message_id = create_message(st.session_state[\"input_user_msg\"])\n",
        "  create_run()\n",
        "  poll_run_status()\n",
        "  add_chat_msg()\n",
        "\n",
        "\n",
        "st.title(\"Wanderlust\")\n",
        "left_col, right_col = st.columns(2)\n",
        "\n",
        "with left_col:\n",
        "  st.subheader(\"Conversation\")\n",
        "  for role, message in st.session_state[\"conversation\"]:\n",
        "    with st.chat_message(role):\n",
        "      st.write(message)\n",
        "\n",
        "with right_col:\n",
        "  fig = go.Figure(go.Scattermapbox(mode=\"markers\",))\n",
        "  fig.update_layout(\n",
        "    mapbox = dict(\n",
        "        accesstoken = userdata.get('MAPBOX_TOKEN'),\n",
        "        center = go.layout.mapbox.Center(\n",
        "            lat = st.session_state[\"map\"][\"latitude\"],\n",
        "            lon = st.session_state[\"map\"][\"longitude\"],\n",
        "        ),\n",
        "        zoom = st.session_state[\"map\"][\"zoom\"],\n",
        "    ),\n",
        "    margin = dict(l=0, r=0, t=0, b=0),\n",
        "  )\n",
        "  if st.session_state[\"markers\"] is not None:\n",
        "    fig.add_trace(\n",
        "        go.Scattermapbox(\n",
        "            mode=\"markers\",\n",
        "            marker=go.scattermapbox.Marker(\n",
        "                size=24,\n",
        "                color=\"red\",\n",
        "            ),\n",
        "            lat = st.session_state[\"markers\"][\"lat\"],\n",
        "            lon =st.session_state[\"markers\"][\"lon\"],\n",
        "            label = st.session_state[\"markers\"][\"label\"],\n",
        "        )\n",
        "    )\n",
        "  st.plotly_chart(fig, config={\"displayModeBar\": False}, use_container_width=True, key=\"plotly\")\n",
        "\n",
        "st.chat_input(\n",
        "    placeholder = \"Ask your question here\",\n",
        "    key = \"input_user_msg\",\n",
        "    on_submit = on_text_input,\n",
        ")"
      ],
      "metadata": {
        "id": "PLkVRT3kAZW1"
      },
      "execution_count": null,
      "outputs": []
    },
    {
      "cell_type": "code",
      "source": [
        "def reset_thread():\n",
        "    client.beta.threads.delete(st.session_state[\"thread\"].id)\n",
        "    st.session_state = {}"
      ],
      "metadata": {
        "id": "-wjmPwAE0FQO"
      },
      "execution_count": null,
      "outputs": []
    }
  ]
}