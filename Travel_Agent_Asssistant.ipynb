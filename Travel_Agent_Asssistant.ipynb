{
  "nbformat": 4,
  "nbformat_minor": 0,
  "metadata": {
    "colab": {
      "provenance": [],
      "authorship_tag": "ABX9TyOOHkLrJEwgtvJslVt1BV8c",
      "include_colab_link": true
    },
    "kernelspec": {
      "name": "python3",
      "display_name": "Python 3"
    },
    "language_info": {
      "name": "python"
    }
  },
  "cells": [
    {
      "cell_type": "markdown",
      "metadata": {
        "id": "view-in-github",
        "colab_type": "text"
      },
      "source": [
        "<a href=\"https://colab.research.google.com/github/sohaiba/travel_agent_assistant/blob/main/Travel_Agent_Asssistant.ipynb\" target=\"_parent\"><img src=\"https://colab.research.google.com/assets/colab-badge.svg\" alt=\"Open In Colab\"/></a>"
      ]
    },
    {
      "cell_type": "code",
      "source": [
        "!pip install streamlit\n",
        "!pip install plotly\n",
        "!pip install --upgrade openai"
      ],
      "metadata": {
        "id": "3dtzXM0zhPoY"
      },
      "execution_count": null,
      "outputs": []
    },
    {
      "cell_type": "code",
      "source": [
        "import os\n",
        "import json\n",
        "from openai import OpenAI\n",
        "import time\n",
        "from google.colab import userdata\n",
        "\n",
        "# API keys are stored in Google Colab's Secret Manager\n",
        "OPENAI_API_KEY = userdata.get('OPENAI_API_KEY')\n",
        "os.environ[\"OPENAI_API_KEY\"] = OPENAI_API_KEY\n",
        "\n",
        "client = OpenAI()"
      ],
      "metadata": {
        "id": "Lt90ZC-NhoUC"
      },
      "execution_count": 47,
      "outputs": []
    },
    {
      "cell_type": "code",
      "source": [
        "# Define the main function\n",
        "def run_assistant():\n",
        "  # Creating an assistant with specific instructions and tools\n",
        "  assistant = client.beta.assistants.create(\n",
        "      instructions=\"You are a helpful travel assistant that can write and execute code, and has access to a digital map to display information\",\n",
        "      model=\"gpt-3.5-turbo-1106\",\n",
        "      tools=[\n",
        "          {\n",
        "              \"type\": \"function\",\n",
        "              \"function\": {\n",
        "                  \"name\": \"update_map\",\n",
        "                  \"parameters\": {\n",
        "                      \"type\": \"object\",\n",
        "                      \"properties\": {\n",
        "                          \"longitude\": {\"type\": \"number\"},\n",
        "                          \"latitude\": {\"type\": \"number\"},\n",
        "                          \"zoom\": {\"type\": \"integer\"}\n",
        "                      },\n",
        "                      \"required\": [\"longitude\", \"latitude\", \"zoom\"]\n",
        "                  }\n",
        "              }\n",
        "          },\n",
        "          {\n",
        "              \"type\": \"function\",\n",
        "              \"function\": {\n",
        "                  \"name\": \"add_marker\",\n",
        "                  \"parameters\": {\n",
        "                      \"type\": \"object\",\n",
        "                      \"properties\": {\n",
        "                          \"longitude\": {\"type\": \"number\"},\n",
        "                          \"latitude\": {\"type\": \"number\"},\n",
        "                          \"label\": { \"type\": \"string\"}\n",
        "                      },\n",
        "                  \"required\": [\"longitude\", \"latitude\", \"label\"]\n",
        "                  }\n",
        "              }\n",
        "          }\n",
        "      ]\n",
        "  )\n",
        "  return assistant.id"
      ],
      "metadata": {
        "id": "Y8TZLoH5pWoe"
      },
      "execution_count": 48,
      "outputs": []
    },
    {
      "cell_type": "code",
      "source": [
        "assistant_id = run_assistant()"
      ],
      "metadata": {
        "id": "4v1b_5nh55rh"
      },
      "execution_count": 49,
      "outputs": []
    },
    {
      "cell_type": "code",
      "source": [
        "# Define functions\n",
        "def update_map(latitude, longitude, zoom):\n",
        "    #Move the Plotly map to give coordinates\n",
        "    st.session_state[\"map\"] = {\n",
        "        \"latitude\": latitude,\n",
        "        \"longitude\": longitude,\n",
        "        \"zoom\": zoom,\n",
        "    }\n",
        "    return \"Map updated\"\n",
        "\n",
        "def add_marker(latitude, longitude, label):\n",
        "    #Add markers on the Plotly map\n",
        "    st.session_state[\"markers\"] = {\n",
        "        \"latitude\": latitude,\n",
        "        \"longitude\": longitude,\n",
        "        \"label\": label,\n",
        "    }\n",
        "    return \"Marker added\""
      ],
      "metadata": {
        "id": "aVHy4JK5ng7i"
      },
      "execution_count": 50,
      "outputs": []
    },
    {
      "cell_type": "code",
      "source": [
        "# Map available functions\n",
        "available_functions = {\n",
        "    \"update_map\": update_map,\n",
        "    \"add_marker\": add_marker\n",
        "}"
      ],
      "metadata": {
        "id": "Q4Bc7wW3xCTB"
      },
      "execution_count": 51,
      "outputs": []
    },
    {
      "cell_type": "code",
      "source": [
        "import streamlit as st\n",
        "#Store global variables in session and reuse through the app\n",
        "def initialize_session_state():\n",
        "    if st.session_state is None:\n",
        "      st.session_state = {}\n",
        "\n",
        "    #Initialize an empty conversation\n",
        "    if \"conversation\" not in st.session_state:\n",
        "      st.session_state[\"conversation\"] = []\n",
        "\n",
        "    #Initialize map coordinates\n",
        "    if \"map\" not in st.session_state:\n",
        "      st.session_state[\"map\"] = {\n",
        "        \"latitude\": 30.3753,\n",
        "        \"longitude\": 69.3451,\n",
        "        \"zoom\": 16,\n",
        "    }\n",
        "\n",
        "    #Prepare reference to OpenAI Objects\n",
        "    if \"assistant\" not in st.session_state:\n",
        "      st.session_state[\"assistant\"] = client.beta.assistants.retrieve(assistant_id)\n",
        "      st.session_state[\"thread\"] = client.beta.threads.create()\n",
        "      st.session_state[\"run\"] = None\n",
        "\n",
        "    if \"markers\" not in st.session_state:\n",
        "      st.session_state[\"markers\"] = None"
      ],
      "metadata": {
        "id": "GYV3X4JNBrgv"
      },
      "execution_count": 52,
      "outputs": []
    },
    {
      "cell_type": "code",
      "source": [
        "initialize_session_state()\n",
        "st.session_state"
      ],
      "metadata": {
        "colab": {
          "base_uri": "https://localhost:8080/"
        },
        "id": "kxnuVN8NDSzh",
        "outputId": "961f315b-f0b2-4a95-ff37-0741c8752421"
      },
      "execution_count": 53,
      "outputs": [
        {
          "output_type": "execute_result",
          "data": {
            "text/plain": [
              "{'conversation': [('assistant',\n",
              "   \"In Paris, there are many iconic landmarks and attractions to visit, such as the Eiffel Tower, the Louvre Museum, Notre-Dame Cathedral, and Montmartre. You may also want to take a leisurely stroll along the Seine River or explore the charming neighborhoods and cafes. Let me know if you'd like more details about any of these suggestions or if there's anything specific you're interested in!\"),\n",
              "  ('user', 'Suggest what I should do in Paris?'),\n",
              "  ('assistant',\n",
              "   \"We're all set to explore Paris! What would you like to do first?\"),\n",
              "  ('user', \"Let's go to Paris\")],\n",
              " 'map': {'latitude': 48.8566, 'longitude': 2.3522, 'zoom': 12},\n",
              " 'assistant': Assistant(id='asst_WQkoiHUNGIdzoIrLQcSovfOd', created_at=1704800855, description=None, file_ids=[], instructions='You are a helpful travel assistant that can write and execute code, and has access to a digital map to display information', metadata={}, model='gpt-3.5-turbo-1106', name=None, object='assistant', tools=[ToolFunction(function=FunctionDefinition(name='update_map', description=None, parameters={'type': 'object', 'properties': {'longitude': {'type': 'number'}, 'latitude': {'type': 'number'}, 'zoom': {'type': 'integer'}}, 'required': ['longitude', 'latitude', 'zoom']}), type='function'), ToolFunction(function=FunctionDefinition(name='add_marker', description=None, parameters={'type': 'object', 'properties': {'longitude': {'type': 'number'}, 'latitude': {'type': 'number'}, 'label': {'type': 'string'}}, 'required': ['longitude', 'latitude', 'label']}), type='function')]),\n",
              " 'thread': Thread(id='thread_zLKR1CQrHa3oZ1rKaV8Dwfjp', created_at=1704801883, metadata={}, object='thread'),\n",
              " 'run': Run(id='run_a5yHxyV10rLpnn6xmgPz4MQy', assistant_id='asst_WQkoiHUNGIdzoIrLQcSovfOd', cancelled_at=None, completed_at=None, created_at=1704802172, expires_at=1704802772, failed_at=None, file_ids=[], instructions='You are a helpful travel assistant that can write and execute code, and has access to a digital map to display information', last_error=None, metadata={}, model='gpt-3.5-turbo-1106', object='thread.run', required_action=None, started_at=None, status='queued', thread_id='thread_zLKR1CQrHa3oZ1rKaV8Dwfjp', tools=[ToolAssistantToolsFunction(function=FunctionDefinition(name='update_map', description=None, parameters={'type': 'object', 'properties': {'longitude': {'type': 'number'}, 'latitude': {'type': 'number'}, 'zoom': {'type': 'integer'}}, 'required': ['longitude', 'latitude', 'zoom']}), type='function'), ToolAssistantToolsFunction(function=FunctionDefinition(name='add_marker', description=None, parameters={'type': 'object', 'properties': {'longitude': {'type': 'number'}, 'latitude': {'type': 'number'}, 'label': {'type': 'string'}}, 'required': ['longitude', 'latitude', 'label']}), type='function')]),\n",
              " 'markers': None}"
            ]
          },
          "metadata": {},
          "execution_count": 53
        }
      ]
    },
    {
      "cell_type": "code",
      "source": [
        "# Adding a user message to the thread\n",
        "user_messsage = \"Suggest what I should do in Paris?\"\n",
        "\n",
        "def create_message(user_messsage):\n",
        "  messages = client.beta.threads.messages.create(\n",
        "        thread_id=st.session_state[\"thread\"].id,\n",
        "        role=\"user\",\n",
        "        content=user_messsage\n",
        "  )\n",
        "  return messages.id"
      ],
      "metadata": {
        "id": "NP5qHWEO77g8"
      },
      "execution_count": 54,
      "outputs": []
    },
    {
      "cell_type": "code",
      "source": [
        "def create_run(user_messsage):\n",
        "  st.session_state[\"run\"] = client.beta.threads.runs.create(\n",
        "      thread_id=st.session_state[\"thread\"].id,\n",
        "      assistant_id=st.session_state[\"assistant\"].id\n",
        "  )"
      ],
      "metadata": {
        "id": "1RcQY-RJ8nnX"
      },
      "execution_count": 55,
      "outputs": []
    },
    {
      "cell_type": "code",
      "source": [
        "def poll_run_status():\n",
        "  # Loop until the run completes or requires action\n",
        "  while True:\n",
        "    run = client.beta.threads.runs.retrieve(thread_id=st.session_state[\"thread\"].id, run_id=st.session_state[\"run\"].id)\n",
        "\n",
        "    # Add run steps retrieval here\n",
        "    run_steps = client.beta.threads.runs.steps.list(thread_id=st.session_state[\"thread\"].id, run_id=st.session_state[\"run\"].id)\n",
        "    print(\"Run Steps:\", run_steps)\n",
        "\n",
        "    if run.status == \"requires_action\":\n",
        "        tool_calls = run.required_action.submit_tool_outputs.tool_calls\n",
        "        tool_outputs = []\n",
        "\n",
        "        for tool_call in tool_calls:\n",
        "            function_name = tool_call.function.name\n",
        "            function_args = json.loads(tool_call.function.arguments)\n",
        "\n",
        "            if function_name in available_functions:\n",
        "                function_to_call = available_functions[function_name]\n",
        "                output = function_to_call(**function_args)\n",
        "                tool_outputs.append({\n",
        "                    \"tool_call_id\": tool_call.id,\n",
        "                    \"output\": output,\n",
        "                })\n",
        "\n",
        "        # Submit tool outputs and update the run\n",
        "        client.beta.threads.runs.submit_tool_outputs(\n",
        "            thread_id=st.session_state[\"thread\"].id,\n",
        "            run_id=st.session_state[\"run\"].id,\n",
        "            tool_outputs=tool_outputs\n",
        "        )\n",
        "\n",
        "    elif run.status == \"completed\":\n",
        "        # List the messages to get the response\n",
        "        messages = client.beta.threads.messages.list(thread_id=st.session_state[\"thread\"].id)\n",
        "        for message in messages.data:\n",
        "            role_label = \"User\" if message.role == \"user\" else \"Assistant\"\n",
        "            message_content = message.content[0].text.value\n",
        "            print(f\"{role_label}: {message_content}\\n\")\n",
        "        break  # Exit the loop after processing the completed run\n",
        "\n",
        "    elif run.status == \"failed\":\n",
        "        print(\"Run failed.\")\n",
        "        break\n",
        "\n",
        "    elif run.status in [\"in_progress\", \"queued\"]:\n",
        "        print(f\"Run is {run.status}. Waiting...\")\n",
        "        time.sleep(0.1)  # Wait for 0.1 seconds before checking again\n",
        "\n",
        "    else:\n",
        "        print(f\"Unexpected status: {run.status}\")\n",
        "        break"
      ],
      "metadata": {
        "id": "Kog-XXbo9N2c"
      },
      "execution_count": 56,
      "outputs": []
    },
    {
      "cell_type": "code",
      "source": [
        "def add_chat_msg():\n",
        "  st.session_state[\"conversation\"] = [\n",
        "      (m.role, m.content[0].text.value) for m in client.beta.threads.messages.list(st.session_state[\"thread\"].id).data\n",
        "  ]"
      ],
      "metadata": {
        "id": "138Vpg7f-i6Y"
      },
      "execution_count": 57,
      "outputs": []
    },
    {
      "cell_type": "code",
      "source": [
        "st.session_state[\"conversation\"]"
      ],
      "metadata": {
        "colab": {
          "base_uri": "https://localhost:8080/"
        },
        "id": "T8aDI7RsBRb0",
        "outputId": "b91b940f-01cc-48c1-d711-fcf0b303c07e"
      },
      "execution_count": 60,
      "outputs": [
        {
          "output_type": "execute_result",
          "data": {
            "text/plain": [
              "[('assistant',\n",
              "  \"In Paris, there are many iconic landmarks and attractions to visit, such as the Eiffel Tower, the Louvre Museum, Notre-Dame Cathedral, and Montmartre. You may also want to take a leisurely stroll along the Seine River or explore the charming neighborhoods and cafes. Let me know if you'd like more details about any of these suggestions or if there's anything specific you're interested in!\"),\n",
              " ('user', 'Suggest what I should do in Paris?'),\n",
              " ('assistant',\n",
              "  \"We're all set to explore Paris! What would you like to do first?\"),\n",
              " ('user', \"Let's go to Paris\")]"
            ]
          },
          "metadata": {},
          "execution_count": 60
        }
      ]
    },
    {
      "cell_type": "code",
      "source": [
        "import plotly.graph_objects as go\n",
        "\n",
        "initialize_session_state()\n",
        "\n",
        "def on_text_input():\n",
        "  #Push message to conversation\n",
        "  message_id = create_message(st.session_state[\"input_user_msg\"])\n",
        "  create_run()\n",
        "  poll_run_status()\n",
        "  add_chat_msg()\n",
        "\n",
        "\n",
        "st.title(\"Wanderlust\")\n",
        "left_col, right_col = st.columns(2)\n",
        "\n",
        "with left_col:\n",
        "  st.subheader(\"Conversation\")\n",
        "  for role, message in st.session_state[\"conversation\"]:\n",
        "    with st.chat_message(role):\n",
        "      st.write(message)\n",
        "\n",
        "with right_col:\n",
        "  fig = go.Figure(go.Scattermapbox(mode=\"markers\",))\n",
        "  fig.update_layout(\n",
        "    mapbox = dict(\n",
        "        accesstoken = userdata.get('MAPBOX_TOKEN'),\n",
        "        center = go.layout.mapbox.Center(\n",
        "            lat = st.session_state[\"map\"][\"latitude\"],\n",
        "            lon = st.session_state[\"map\"][\"longitude\"],\n",
        "        ),\n",
        "        zoom = st.session_state[\"map\"][\"zoom\"],\n",
        "    ),\n",
        "    margin = dict(l=0, r=0, t=0, b=0),\n",
        "  )\n",
        "  if st.session_state[\"markers\"] is not None:\n",
        "    fig.add_trace(\n",
        "        go.Scattermapbox(\n",
        "            mode=\"markers\",\n",
        "            marker=go.scattermapbox.Marker(\n",
        "                size=24,\n",
        "                color=\"red\",\n",
        "            ),\n",
        "            lat = st.session_state[\"markers\"][\"lat\"],\n",
        "            lon =st.session_state[\"markers\"][\"lon\"],\n",
        "            label = st.session_state[\"markers\"][\"label\"],\n",
        "        )\n",
        "    )\n",
        "  st.plotly_chart(fig, config={\"displayModeBar\": False}, use_container_width=True, key=\"plotly\")\n",
        "\n",
        "st.chat_input(\n",
        "    placeholder = \"Ask your question here\",\n",
        "    key = \"input_user_msg\",\n",
        "    on_submit = on_text_input,\n",
        ")"
      ],
      "metadata": {
        "id": "PLkVRT3kAZW1"
      },
      "execution_count": 59,
      "outputs": []
    }
  ]
}