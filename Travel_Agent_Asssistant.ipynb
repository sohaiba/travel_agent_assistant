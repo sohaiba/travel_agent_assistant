{
  "nbformat": 4,
  "nbformat_minor": 0,
  "metadata": {
    "colab": {
      "provenance": [],
      "authorship_tag": "ABX9TyOUxGkLyBYsuJJcbijzwWdR",
      "include_colab_link": true
    },
    "kernelspec": {
      "name": "python3",
      "display_name": "Python 3"
    },
    "language_info": {
      "name": "python"
    }
  },
  "cells": [
    {
      "cell_type": "markdown",
      "metadata": {
        "id": "view-in-github",
        "colab_type": "text"
      },
      "source": [
        "<a href=\"https://colab.research.google.com/github/sohaiba/travel_agent_assistant/blob/main/Travel_Agent_Asssistant.ipynb\" target=\"_parent\"><img src=\"https://colab.research.google.com/assets/colab-badge.svg\" alt=\"Open In Colab\"/></a>"
      ]
    },
    {
      "cell_type": "code",
      "source": [
        "def reset_thread():\n",
        "    client.beta.threads.delete(st.session_state[\"thread\"].id)\n",
        "    st.session_state = {}"
      ],
      "metadata": {
        "id": "zGXLTNFnowEK"
      },
      "execution_count": null,
      "outputs": []
    },
    {
      "cell_type": "code",
      "source": [
        "!pip install streamlit\n",
        "!pip install plotly\n",
        "!pip install --upgrade openai"
      ],
      "metadata": {
        "colab": {
          "base_uri": "https://localhost:8080/"
        },
        "id": "3dtzXM0zhPoY",
        "outputId": "6b6577ea-dba2-4f68-b6cb-df3e95b59469"
      },
      "execution_count": 61,
      "outputs": [
        {
          "output_type": "stream",
          "name": "stdout",
          "text": [
            "Requirement already satisfied: streamlit in /usr/local/lib/python3.10/dist-packages (1.29.0)\n",
            "Requirement already satisfied: altair<6,>=4.0 in /usr/local/lib/python3.10/dist-packages (from streamlit) (4.2.2)\n",
            "Requirement already satisfied: blinker<2,>=1.0.0 in /usr/lib/python3/dist-packages (from streamlit) (1.4)\n",
            "Requirement already satisfied: cachetools<6,>=4.0 in /usr/local/lib/python3.10/dist-packages (from streamlit) (5.3.2)\n",
            "Requirement already satisfied: click<9,>=7.0 in /usr/local/lib/python3.10/dist-packages (from streamlit) (8.1.7)\n",
            "Requirement already satisfied: importlib-metadata<7,>=1.4 in /usr/local/lib/python3.10/dist-packages (from streamlit) (6.11.0)\n",
            "Requirement already satisfied: numpy<2,>=1.19.3 in /usr/local/lib/python3.10/dist-packages (from streamlit) (1.23.5)\n",
            "Requirement already satisfied: packaging<24,>=16.8 in /usr/local/lib/python3.10/dist-packages (from streamlit) (23.2)\n",
            "Requirement already satisfied: pandas<3,>=1.3.0 in /usr/local/lib/python3.10/dist-packages (from streamlit) (1.5.3)\n",
            "Requirement already satisfied: pillow<11,>=7.1.0 in /usr/local/lib/python3.10/dist-packages (from streamlit) (9.4.0)\n",
            "Requirement already satisfied: protobuf<5,>=3.20 in /usr/local/lib/python3.10/dist-packages (from streamlit) (3.20.3)\n",
            "Requirement already satisfied: pyarrow>=6.0 in /usr/local/lib/python3.10/dist-packages (from streamlit) (10.0.1)\n",
            "Requirement already satisfied: python-dateutil<3,>=2.7.3 in /usr/local/lib/python3.10/dist-packages (from streamlit) (2.8.2)\n",
            "Requirement already satisfied: requests<3,>=2.27 in /usr/local/lib/python3.10/dist-packages (from streamlit) (2.31.0)\n",
            "Requirement already satisfied: rich<14,>=10.14.0 in /usr/local/lib/python3.10/dist-packages (from streamlit) (13.7.0)\n",
            "Requirement already satisfied: tenacity<9,>=8.1.0 in /usr/local/lib/python3.10/dist-packages (from streamlit) (8.2.3)\n",
            "Requirement already satisfied: toml<2,>=0.10.1 in /usr/local/lib/python3.10/dist-packages (from streamlit) (0.10.2)\n",
            "Requirement already satisfied: typing-extensions<5,>=4.3.0 in /usr/local/lib/python3.10/dist-packages (from streamlit) (4.9.0)\n",
            "Requirement already satisfied: tzlocal<6,>=1.1 in /usr/local/lib/python3.10/dist-packages (from streamlit) (5.2)\n",
            "Requirement already satisfied: validators<1,>=0.2 in /usr/local/lib/python3.10/dist-packages (from streamlit) (0.22.0)\n",
            "Requirement already satisfied: gitpython!=3.1.19,<4,>=3.0.7 in /usr/local/lib/python3.10/dist-packages (from streamlit) (3.1.40)\n",
            "Requirement already satisfied: pydeck<1,>=0.8.0b4 in /usr/local/lib/python3.10/dist-packages (from streamlit) (0.8.1b0)\n",
            "Requirement already satisfied: tornado<7,>=6.0.3 in /usr/local/lib/python3.10/dist-packages (from streamlit) (6.3.2)\n",
            "Requirement already satisfied: watchdog>=2.1.5 in /usr/local/lib/python3.10/dist-packages (from streamlit) (3.0.0)\n",
            "Requirement already satisfied: entrypoints in /usr/local/lib/python3.10/dist-packages (from altair<6,>=4.0->streamlit) (0.4)\n",
            "Requirement already satisfied: jinja2 in /usr/local/lib/python3.10/dist-packages (from altair<6,>=4.0->streamlit) (3.1.2)\n",
            "Requirement already satisfied: jsonschema>=3.0 in /usr/local/lib/python3.10/dist-packages (from altair<6,>=4.0->streamlit) (4.19.2)\n",
            "Requirement already satisfied: toolz in /usr/local/lib/python3.10/dist-packages (from altair<6,>=4.0->streamlit) (0.12.0)\n",
            "Requirement already satisfied: gitdb<5,>=4.0.1 in /usr/local/lib/python3.10/dist-packages (from gitpython!=3.1.19,<4,>=3.0.7->streamlit) (4.0.11)\n",
            "Requirement already satisfied: zipp>=0.5 in /usr/local/lib/python3.10/dist-packages (from importlib-metadata<7,>=1.4->streamlit) (3.17.0)\n",
            "Requirement already satisfied: pytz>=2020.1 in /usr/local/lib/python3.10/dist-packages (from pandas<3,>=1.3.0->streamlit) (2023.3.post1)\n",
            "Requirement already satisfied: six>=1.5 in /usr/local/lib/python3.10/dist-packages (from python-dateutil<3,>=2.7.3->streamlit) (1.16.0)\n",
            "Requirement already satisfied: charset-normalizer<4,>=2 in /usr/local/lib/python3.10/dist-packages (from requests<3,>=2.27->streamlit) (3.3.2)\n",
            "Requirement already satisfied: idna<4,>=2.5 in /usr/local/lib/python3.10/dist-packages (from requests<3,>=2.27->streamlit) (3.6)\n",
            "Requirement already satisfied: urllib3<3,>=1.21.1 in /usr/local/lib/python3.10/dist-packages (from requests<3,>=2.27->streamlit) (2.0.7)\n",
            "Requirement already satisfied: certifi>=2017.4.17 in /usr/local/lib/python3.10/dist-packages (from requests<3,>=2.27->streamlit) (2023.11.17)\n",
            "Requirement already satisfied: markdown-it-py>=2.2.0 in /usr/local/lib/python3.10/dist-packages (from rich<14,>=10.14.0->streamlit) (3.0.0)\n",
            "Requirement already satisfied: pygments<3.0.0,>=2.13.0 in /usr/local/lib/python3.10/dist-packages (from rich<14,>=10.14.0->streamlit) (2.16.1)\n",
            "Requirement already satisfied: smmap<6,>=3.0.1 in /usr/local/lib/python3.10/dist-packages (from gitdb<5,>=4.0.1->gitpython!=3.1.19,<4,>=3.0.7->streamlit) (5.0.1)\n",
            "Requirement already satisfied: MarkupSafe>=2.0 in /usr/local/lib/python3.10/dist-packages (from jinja2->altair<6,>=4.0->streamlit) (2.1.3)\n",
            "Requirement already satisfied: attrs>=22.2.0 in /usr/local/lib/python3.10/dist-packages (from jsonschema>=3.0->altair<6,>=4.0->streamlit) (23.2.0)\n",
            "Requirement already satisfied: jsonschema-specifications>=2023.03.6 in /usr/local/lib/python3.10/dist-packages (from jsonschema>=3.0->altair<6,>=4.0->streamlit) (2023.12.1)\n",
            "Requirement already satisfied: referencing>=0.28.4 in /usr/local/lib/python3.10/dist-packages (from jsonschema>=3.0->altair<6,>=4.0->streamlit) (0.32.0)\n",
            "Requirement already satisfied: rpds-py>=0.7.1 in /usr/local/lib/python3.10/dist-packages (from jsonschema>=3.0->altair<6,>=4.0->streamlit) (0.16.2)\n",
            "Requirement already satisfied: mdurl~=0.1 in /usr/local/lib/python3.10/dist-packages (from markdown-it-py>=2.2.0->rich<14,>=10.14.0->streamlit) (0.1.2)\n",
            "Requirement already satisfied: plotly in /usr/local/lib/python3.10/dist-packages (5.15.0)\n",
            "Requirement already satisfied: tenacity>=6.2.0 in /usr/local/lib/python3.10/dist-packages (from plotly) (8.2.3)\n",
            "Requirement already satisfied: packaging in /usr/local/lib/python3.10/dist-packages (from plotly) (23.2)\n",
            "Requirement already satisfied: openai in /usr/local/lib/python3.10/dist-packages (1.7.0)\n",
            "Requirement already satisfied: anyio<5,>=3.5.0 in /usr/local/lib/python3.10/dist-packages (from openai) (3.7.1)\n",
            "Requirement already satisfied: distro<2,>=1.7.0 in /usr/lib/python3/dist-packages (from openai) (1.7.0)\n",
            "Requirement already satisfied: httpx<1,>=0.23.0 in /usr/local/lib/python3.10/dist-packages (from openai) (0.26.0)\n",
            "Requirement already satisfied: pydantic<3,>=1.9.0 in /usr/local/lib/python3.10/dist-packages (from openai) (1.10.13)\n",
            "Requirement already satisfied: sniffio in /usr/local/lib/python3.10/dist-packages (from openai) (1.3.0)\n",
            "Requirement already satisfied: tqdm>4 in /usr/local/lib/python3.10/dist-packages (from openai) (4.66.1)\n",
            "Requirement already satisfied: typing-extensions<5,>=4.7 in /usr/local/lib/python3.10/dist-packages (from openai) (4.9.0)\n",
            "Requirement already satisfied: idna>=2.8 in /usr/local/lib/python3.10/dist-packages (from anyio<5,>=3.5.0->openai) (3.6)\n",
            "Requirement already satisfied: exceptiongroup in /usr/local/lib/python3.10/dist-packages (from anyio<5,>=3.5.0->openai) (1.2.0)\n",
            "Requirement already satisfied: certifi in /usr/local/lib/python3.10/dist-packages (from httpx<1,>=0.23.0->openai) (2023.11.17)\n",
            "Requirement already satisfied: httpcore==1.* in /usr/local/lib/python3.10/dist-packages (from httpx<1,>=0.23.0->openai) (1.0.2)\n",
            "Requirement already satisfied: h11<0.15,>=0.13 in /usr/local/lib/python3.10/dist-packages (from httpcore==1.*->httpx<1,>=0.23.0->openai) (0.14.0)\n"
          ]
        }
      ]
    },
    {
      "cell_type": "code",
      "source": [
        "import os\n",
        "import json\n",
        "from openai import OpenAI\n",
        "import time\n",
        "from google.colab import userdata\n",
        "\n",
        "# API keys are stored in Google Colab's Secret Manager\n",
        "OPENAI_API_KEY = userdata.get('OPENAI_API_KEY')\n",
        "os.environ[\"OPENAI_API_KEY\"] = OPENAI_API_KEY\n",
        "\n",
        "client = OpenAI()"
      ],
      "metadata": {
        "id": "Lt90ZC-NhoUC"
      },
      "execution_count": 62,
      "outputs": []
    },
    {
      "cell_type": "code",
      "source": [
        "# Define the main function\n",
        "def run_assistant():\n",
        "  # Creating an assistant with specific instructions and tools\n",
        "  assistant = client.beta.assistants.create(\n",
        "      instructions=\"You are a helpful travel assistant that can write and execute code, and has access to a digital map to display information\",\n",
        "      model=\"gpt-3.5-turbo-1106\",\n",
        "      tools=[\n",
        "          {\n",
        "              \"type\": \"function\",\n",
        "              \"function\": {\n",
        "                  \"name\": \"update_map\",\n",
        "                  \"parameters\": {\n",
        "                      \"type\": \"object\",\n",
        "                      \"properties\": {\n",
        "                          \"longitude\": {\"type\": \"number\"},\n",
        "                          \"latitude\": {\"type\": \"number\"},\n",
        "                          \"zoom\": {\"type\": \"integer\"}\n",
        "                      },\n",
        "                      \"required\": [\"longitude\", \"latitude\", \"zoom\"]\n",
        "                  }\n",
        "              }\n",
        "          },\n",
        "          {\n",
        "              \"type\": \"function\",\n",
        "              \"function\": {\n",
        "                  \"name\": \"add_marker\",\n",
        "                  \"parameters\": {\n",
        "                      \"type\": \"object\",\n",
        "                      \"properties\": {\n",
        "                          \"longitude\": {\"type\": \"number\"},\n",
        "                          \"latitude\": {\"type\": \"number\"},\n",
        "                          \"label\": { \"type\": \"string\"}\n",
        "                      },\n",
        "                  \"required\": [\"longitude\", \"latitude\", \"label\"]\n",
        "                  }\n",
        "              }\n",
        "          }\n",
        "      ]\n",
        "  )\n",
        "  return assistant.id"
      ],
      "metadata": {
        "id": "Y8TZLoH5pWoe"
      },
      "execution_count": 63,
      "outputs": []
    },
    {
      "cell_type": "code",
      "source": [
        "assistant_id = run_assistant()"
      ],
      "metadata": {
        "id": "4v1b_5nh55rh"
      },
      "execution_count": 64,
      "outputs": []
    },
    {
      "cell_type": "code",
      "source": [
        "# Define functions\n",
        "def update_map(latitude, longitude, zoom):\n",
        "    #Move the Plotly map to give coordinates\n",
        "    st.session_state[\"map\"] = {\n",
        "        \"latitude\": latitude,\n",
        "        \"longitude\": longitude,\n",
        "        \"zoom\": zoom,\n",
        "    }\n",
        "    return \"Map updated\"\n",
        "\n",
        "def add_marker(latitude, longitude, label):\n",
        "    #Add markers on the Plotly map\n",
        "    st.session_state[\"markers\"] = {\n",
        "        \"latitude\": latitude,\n",
        "        \"longitude\": longitude,\n",
        "        \"label\": label,\n",
        "    }\n",
        "    return \"Marker added\""
      ],
      "metadata": {
        "id": "aVHy4JK5ng7i"
      },
      "execution_count": 65,
      "outputs": []
    },
    {
      "cell_type": "code",
      "source": [
        "# Map available functions\n",
        "available_functions = {\n",
        "    \"update_map\": update_map,\n",
        "    \"add_marker\": add_marker\n",
        "}"
      ],
      "metadata": {
        "id": "Q4Bc7wW3xCTB"
      },
      "execution_count": 66,
      "outputs": []
    },
    {
      "cell_type": "code",
      "source": [
        "import streamlit as st\n",
        "#Store global variables in session and reuse through the app\n",
        "def initialize_session_state():\n",
        "    if st.session_state is None:\n",
        "      st.session_state = {}\n",
        "\n",
        "    #Initialize an empty conversation\n",
        "    if \"conversation\" not in st.session_state:\n",
        "      st.session_state[\"conversation\"] = []\n",
        "\n",
        "    #Initialize map coordinates\n",
        "    if \"map\" not in st.session_state:\n",
        "      st.session_state[\"map\"] = {\n",
        "        \"latitude\": 30.3753,\n",
        "        \"longitude\": 69.3451,\n",
        "        \"zoom\": 16,\n",
        "    }\n",
        "\n",
        "    #Prepare reference to OpenAI Objects\n",
        "    if \"assistant\" not in st.session_state:\n",
        "      st.session_state[\"assistant\"] = client.beta.assistants.retrieve(assistant_id)\n",
        "      st.session_state[\"thread\"] = client.beta.threads.create()\n",
        "      st.session_state[\"run\"] = None\n",
        "\n",
        "    if \"markers\" not in st.session_state:\n",
        "      st.session_state[\"markers\"] = None"
      ],
      "metadata": {
        "id": "GYV3X4JNBrgv"
      },
      "execution_count": 67,
      "outputs": []
    },
    {
      "cell_type": "code",
      "source": [
        "initialize_session_state()\n",
        "st.session_state"
      ],
      "metadata": {
        "colab": {
          "base_uri": "https://localhost:8080/"
        },
        "id": "kxnuVN8NDSzh",
        "outputId": "2c940a8e-6682-4049-adcf-fd179b3ffb3e"
      },
      "execution_count": 68,
      "outputs": [
        {
          "output_type": "execute_result",
          "data": {
            "text/plain": [
              "{'conversation': [('assistant',\n",
              "   \"In Paris, there are many iconic landmarks and attractions to visit, such as the Eiffel Tower, the Louvre Museum, Notre-Dame Cathedral, and Montmartre. You may also want to take a leisurely stroll along the Seine River or explore the charming neighborhoods and cafes. Let me know if you'd like more details about any of these suggestions or if there's anything specific you're interested in!\"),\n",
              "  ('user', 'Suggest what I should do in Paris?'),\n",
              "  ('assistant',\n",
              "   \"We're all set to explore Paris! What would you like to do first?\"),\n",
              "  ('user', \"Let's go to Paris\")],\n",
              " 'map': {'latitude': 48.8566, 'longitude': 2.3522, 'zoom': 12},\n",
              " 'assistant': Assistant(id='asst_WQkoiHUNGIdzoIrLQcSovfOd', created_at=1704800855, description=None, file_ids=[], instructions='You are a helpful travel assistant that can write and execute code, and has access to a digital map to display information', metadata={}, model='gpt-3.5-turbo-1106', name=None, object='assistant', tools=[ToolFunction(function=FunctionDefinition(name='update_map', description=None, parameters={'type': 'object', 'properties': {'longitude': {'type': 'number'}, 'latitude': {'type': 'number'}, 'zoom': {'type': 'integer'}}, 'required': ['longitude', 'latitude', 'zoom']}), type='function'), ToolFunction(function=FunctionDefinition(name='add_marker', description=None, parameters={'type': 'object', 'properties': {'longitude': {'type': 'number'}, 'latitude': {'type': 'number'}, 'label': {'type': 'string'}}, 'required': ['longitude', 'latitude', 'label']}), type='function')]),\n",
              " 'thread': Thread(id='thread_zLKR1CQrHa3oZ1rKaV8Dwfjp', created_at=1704801883, metadata={}, object='thread'),\n",
              " 'run': Run(id='run_a5yHxyV10rLpnn6xmgPz4MQy', assistant_id='asst_WQkoiHUNGIdzoIrLQcSovfOd', cancelled_at=None, completed_at=None, created_at=1704802172, expires_at=1704802772, failed_at=None, file_ids=[], instructions='You are a helpful travel assistant that can write and execute code, and has access to a digital map to display information', last_error=None, metadata={}, model='gpt-3.5-turbo-1106', object='thread.run', required_action=None, started_at=None, status='queued', thread_id='thread_zLKR1CQrHa3oZ1rKaV8Dwfjp', tools=[ToolAssistantToolsFunction(function=FunctionDefinition(name='update_map', description=None, parameters={'type': 'object', 'properties': {'longitude': {'type': 'number'}, 'latitude': {'type': 'number'}, 'zoom': {'type': 'integer'}}, 'required': ['longitude', 'latitude', 'zoom']}), type='function'), ToolAssistantToolsFunction(function=FunctionDefinition(name='add_marker', description=None, parameters={'type': 'object', 'properties': {'longitude': {'type': 'number'}, 'latitude': {'type': 'number'}, 'label': {'type': 'string'}}, 'required': ['longitude', 'latitude', 'label']}), type='function')]),\n",
              " 'markers': None}"
            ]
          },
          "metadata": {},
          "execution_count": 68
        }
      ]
    },
    {
      "cell_type": "code",
      "source": [
        "# Adding a user message to the thread\n",
        "user_messsage = \"Take me to Germany!\"\n",
        "\n",
        "def create_message(user_messsage):\n",
        "  messages = client.beta.threads.messages.create(\n",
        "        thread_id=st.session_state[\"thread\"].id,\n",
        "        role=\"user\",\n",
        "        content=user_messsage\n",
        "  )\n",
        "  return messages.id\n",
        "\n",
        "message_id = create_message(user_messsage)"
      ],
      "metadata": {
        "id": "NP5qHWEO77g8"
      },
      "execution_count": 69,
      "outputs": []
    },
    {
      "cell_type": "code",
      "source": [
        "def create_run():\n",
        "  st.session_state[\"run\"] = client.beta.threads.runs.create(\n",
        "      thread_id=st.session_state[\"thread\"].id,\n",
        "      assistant_id=st.session_state[\"assistant\"].id\n",
        "  )\n",
        "create_run()"
      ],
      "metadata": {
        "id": "1RcQY-RJ8nnX"
      },
      "execution_count": 70,
      "outputs": []
    },
    {
      "cell_type": "code",
      "source": [
        "def poll_run_status():\n",
        "  # Loop until the run completes or requires action\n",
        "  while True:\n",
        "    run = client.beta.threads.runs.retrieve(thread_id=st.session_state[\"thread\"].id, run_id=st.session_state[\"run\"].id)\n",
        "\n",
        "    # Add run steps retrieval here\n",
        "    run_steps = client.beta.threads.runs.steps.list(thread_id=st.session_state[\"thread\"].id, run_id=st.session_state[\"run\"].id)\n",
        "    print(\"Run Steps:\", run_steps)\n",
        "\n",
        "    if run.status == \"requires_action\":\n",
        "        tool_calls = run.required_action.submit_tool_outputs.tool_calls\n",
        "        tool_outputs = []\n",
        "\n",
        "        for tool_call in tool_calls:\n",
        "            function_name = tool_call.function.name\n",
        "            function_args = json.loads(tool_call.function.arguments)\n",
        "\n",
        "            if function_name in available_functions:\n",
        "                function_to_call = available_functions[function_name]\n",
        "                output = function_to_call(**function_args)\n",
        "                tool_outputs.append({\n",
        "                    \"tool_call_id\": tool_call.id,\n",
        "                    \"output\": output,\n",
        "                })\n",
        "\n",
        "        # Submit tool outputs and update the run\n",
        "        client.beta.threads.runs.submit_tool_outputs(\n",
        "            thread_id=st.session_state[\"thread\"].id,\n",
        "            run_id=st.session_state[\"run\"].id,\n",
        "            tool_outputs=tool_outputs\n",
        "        )\n",
        "\n",
        "    elif run.status == \"completed\":\n",
        "        # List the messages to get the response\n",
        "        messages = client.beta.threads.messages.list(thread_id=st.session_state[\"thread\"].id)\n",
        "        for message in messages.data:\n",
        "            role_label = \"User\" if message.role == \"user\" else \"Assistant\"\n",
        "            message_content = message.content[0].text.value\n",
        "            print(f\"{role_label}: {message_content}\\n\")\n",
        "        break  # Exit the loop after processing the completed run\n",
        "\n",
        "    elif run.status == \"failed\":\n",
        "        print(\"Run failed.\")\n",
        "        break\n",
        "\n",
        "    elif run.status in [\"in_progress\", \"queued\"]:\n",
        "        print(f\"Run is {run.status}. Waiting...\")\n",
        "        time.sleep(0.1)  # Wait for 0.1 seconds before checking again\n",
        "\n",
        "    else:\n",
        "        print(f\"Unexpected status: {run.status}\")\n",
        "        break\n",
        "\n",
        "poll_run_status()"
      ],
      "metadata": {
        "colab": {
          "base_uri": "https://localhost:8080/"
        },
        "id": "Kog-XXbo9N2c",
        "outputId": "1c192144-2ca7-4772-80a0-793d404ce79b"
      },
      "execution_count": 71,
      "outputs": [
        {
          "output_type": "stream",
          "name": "stdout",
          "text": [
            "Run Steps: SyncCursorPage[RunStep](data=[RunStep(id='step_zepIv8AHwHNKEwiYWOzOPjVP', assistant_id='asst_WQkoiHUNGIdzoIrLQcSovfOd', cancelled_at=None, completed_at=None, created_at=1704810381, expired_at=None, failed_at=None, last_error=None, metadata=None, object='thread.run.step', run_id='run_p5c6XN2Ap08SBlkGACQjbonX', status='in_progress', step_details=ToolCallsStepDetails(tool_calls=[], type='tool_calls'), thread_id='thread_zLKR1CQrHa3oZ1rKaV8Dwfjp', type='tool_calls', expires_at=1704810979)], object='list', first_id='step_zepIv8AHwHNKEwiYWOzOPjVP', last_id='step_zepIv8AHwHNKEwiYWOzOPjVP', has_more=False)\n",
            "Run is in_progress. Waiting...\n",
            "Run Steps: SyncCursorPage[RunStep](data=[RunStep(id='step_zepIv8AHwHNKEwiYWOzOPjVP', assistant_id='asst_WQkoiHUNGIdzoIrLQcSovfOd', cancelled_at=None, completed_at=None, created_at=1704810381, expired_at=None, failed_at=None, last_error=None, metadata=None, object='thread.run.step', run_id='run_p5c6XN2Ap08SBlkGACQjbonX', status='in_progress', step_details=ToolCallsStepDetails(tool_calls=[], type='tool_calls'), thread_id='thread_zLKR1CQrHa3oZ1rKaV8Dwfjp', type='tool_calls', expires_at=1704810979)], object='list', first_id='step_zepIv8AHwHNKEwiYWOzOPjVP', last_id='step_zepIv8AHwHNKEwiYWOzOPjVP', has_more=False)\n",
            "Run is in_progress. Waiting...\n",
            "Run Steps: SyncCursorPage[RunStep](data=[RunStep(id='step_zepIv8AHwHNKEwiYWOzOPjVP', assistant_id='asst_WQkoiHUNGIdzoIrLQcSovfOd', cancelled_at=None, completed_at=None, created_at=1704810381, expired_at=None, failed_at=None, last_error=None, metadata=None, object='thread.run.step', run_id='run_p5c6XN2Ap08SBlkGACQjbonX', status='in_progress', step_details=ToolCallsStepDetails(tool_calls=[FunctionToolCall(id='call_CiUOCaA1eOxhQsfuKjmtcbHT', function=Function(arguments='{\"longitude\": 9.9976, \"latitude\": 51.3396, \"zoom\": 6}', name='update_map', output=None), type='function'), FunctionToolCall(id='call_G4lFq8d2TNuTITI3yUW5OUgQ', function=Function(arguments='{\"longitude\": 9.9976, \"latitude\": 51.3396, \"label\": \"Welcome to Germany\"}', name='add_marker', output=None), type='function')], type='tool_calls'), thread_id='thread_zLKR1CQrHa3oZ1rKaV8Dwfjp', type='tool_calls', expires_at=1704810979)], object='list', first_id='step_zepIv8AHwHNKEwiYWOzOPjVP', last_id='step_zepIv8AHwHNKEwiYWOzOPjVP', has_more=False)\n",
            "Run is in_progress. Waiting...\n",
            "Run Steps: SyncCursorPage[RunStep](data=[RunStep(id='step_zepIv8AHwHNKEwiYWOzOPjVP', assistant_id='asst_WQkoiHUNGIdzoIrLQcSovfOd', cancelled_at=None, completed_at=None, created_at=1704810381, expired_at=None, failed_at=None, last_error=None, metadata=None, object='thread.run.step', run_id='run_p5c6XN2Ap08SBlkGACQjbonX', status='in_progress', step_details=ToolCallsStepDetails(tool_calls=[FunctionToolCall(id='call_CiUOCaA1eOxhQsfuKjmtcbHT', function=Function(arguments='{\"longitude\": 9.9976, \"latitude\": 51.3396, \"zoom\": 6}', name='update_map', output=None), type='function'), FunctionToolCall(id='call_G4lFq8d2TNuTITI3yUW5OUgQ', function=Function(arguments='{\"longitude\": 9.9976, \"latitude\": 51.3396, \"label\": \"Welcome to Germany\"}', name='add_marker', output=None), type='function')], type='tool_calls'), thread_id='thread_zLKR1CQrHa3oZ1rKaV8Dwfjp', type='tool_calls', expires_at=1704810979)], object='list', first_id='step_zepIv8AHwHNKEwiYWOzOPjVP', last_id='step_zepIv8AHwHNKEwiYWOzOPjVP', has_more=False)\n",
            "Run Steps: SyncCursorPage[RunStep](data=[RunStep(id='step_zepIv8AHwHNKEwiYWOzOPjVP', assistant_id='asst_WQkoiHUNGIdzoIrLQcSovfOd', cancelled_at=None, completed_at=1704810384, created_at=1704810381, expired_at=None, failed_at=None, last_error=None, metadata=None, object='thread.run.step', run_id='run_p5c6XN2Ap08SBlkGACQjbonX', status='completed', step_details=ToolCallsStepDetails(tool_calls=[FunctionToolCall(id='call_CiUOCaA1eOxhQsfuKjmtcbHT', function=Function(arguments='{\"longitude\": 9.9976, \"latitude\": 51.3396, \"zoom\": 6}', name='update_map', output='Map updated'), type='function'), FunctionToolCall(id='call_G4lFq8d2TNuTITI3yUW5OUgQ', function=Function(arguments='{\"longitude\": 9.9976, \"latitude\": 51.3396, \"label\": \"Welcome to Germany\"}', name='add_marker', output='Marker added'), type='function')], type='tool_calls'), thread_id='thread_zLKR1CQrHa3oZ1rKaV8Dwfjp', type='tool_calls', expires_at=1704810979)], object='list', first_id='step_zepIv8AHwHNKEwiYWOzOPjVP', last_id='step_zepIv8AHwHNKEwiYWOzOPjVP', has_more=False)\n",
            "Run is queued. Waiting...\n",
            "Run Steps: SyncCursorPage[RunStep](data=[RunStep(id='step_zepIv8AHwHNKEwiYWOzOPjVP', assistant_id='asst_WQkoiHUNGIdzoIrLQcSovfOd', cancelled_at=None, completed_at=1704810384, created_at=1704810381, expired_at=None, failed_at=None, last_error=None, metadata=None, object='thread.run.step', run_id='run_p5c6XN2Ap08SBlkGACQjbonX', status='completed', step_details=ToolCallsStepDetails(tool_calls=[FunctionToolCall(id='call_CiUOCaA1eOxhQsfuKjmtcbHT', function=Function(arguments='{\"longitude\": 9.9976, \"latitude\": 51.3396, \"zoom\": 6}', name='update_map', output='Map updated'), type='function'), FunctionToolCall(id='call_G4lFq8d2TNuTITI3yUW5OUgQ', function=Function(arguments='{\"longitude\": 9.9976, \"latitude\": 51.3396, \"label\": \"Welcome to Germany\"}', name='add_marker', output='Marker added'), type='function')], type='tool_calls'), thread_id='thread_zLKR1CQrHa3oZ1rKaV8Dwfjp', type='tool_calls', expires_at=1704810979)], object='list', first_id='step_zepIv8AHwHNKEwiYWOzOPjVP', last_id='step_zepIv8AHwHNKEwiYWOzOPjVP', has_more=False)\n",
            "Run is in_progress. Waiting...\n",
            "Run Steps: SyncCursorPage[RunStep](data=[RunStep(id='step_zepIv8AHwHNKEwiYWOzOPjVP', assistant_id='asst_WQkoiHUNGIdzoIrLQcSovfOd', cancelled_at=None, completed_at=1704810384, created_at=1704810381, expired_at=None, failed_at=None, last_error=None, metadata=None, object='thread.run.step', run_id='run_p5c6XN2Ap08SBlkGACQjbonX', status='completed', step_details=ToolCallsStepDetails(tool_calls=[FunctionToolCall(id='call_CiUOCaA1eOxhQsfuKjmtcbHT', function=Function(arguments='{\"longitude\": 9.9976, \"latitude\": 51.3396, \"zoom\": 6}', name='update_map', output='Map updated'), type='function'), FunctionToolCall(id='call_G4lFq8d2TNuTITI3yUW5OUgQ', function=Function(arguments='{\"longitude\": 9.9976, \"latitude\": 51.3396, \"label\": \"Welcome to Germany\"}', name='add_marker', output='Marker added'), type='function')], type='tool_calls'), thread_id='thread_zLKR1CQrHa3oZ1rKaV8Dwfjp', type='tool_calls', expires_at=1704810979)], object='list', first_id='step_zepIv8AHwHNKEwiYWOzOPjVP', last_id='step_zepIv8AHwHNKEwiYWOzOPjVP', has_more=False)\n",
            "Run is in_progress. Waiting...\n",
            "Run Steps: SyncCursorPage[RunStep](data=[RunStep(id='step_zepIv8AHwHNKEwiYWOzOPjVP', assistant_id='asst_WQkoiHUNGIdzoIrLQcSovfOd', cancelled_at=None, completed_at=1704810384, created_at=1704810381, expired_at=None, failed_at=None, last_error=None, metadata=None, object='thread.run.step', run_id='run_p5c6XN2Ap08SBlkGACQjbonX', status='completed', step_details=ToolCallsStepDetails(tool_calls=[FunctionToolCall(id='call_CiUOCaA1eOxhQsfuKjmtcbHT', function=Function(arguments='{\"longitude\": 9.9976, \"latitude\": 51.3396, \"zoom\": 6}', name='update_map', output='Map updated'), type='function'), FunctionToolCall(id='call_G4lFq8d2TNuTITI3yUW5OUgQ', function=Function(arguments='{\"longitude\": 9.9976, \"latitude\": 51.3396, \"label\": \"Welcome to Germany\"}', name='add_marker', output='Marker added'), type='function')], type='tool_calls'), thread_id='thread_zLKR1CQrHa3oZ1rKaV8Dwfjp', type='tool_calls', expires_at=1704810979)], object='list', first_id='step_zepIv8AHwHNKEwiYWOzOPjVP', last_id='step_zepIv8AHwHNKEwiYWOzOPjVP', has_more=False)\n",
            "Run is in_progress. Waiting...\n",
            "Run Steps: SyncCursorPage[RunStep](data=[RunStep(id='step_zepIv8AHwHNKEwiYWOzOPjVP', assistant_id='asst_WQkoiHUNGIdzoIrLQcSovfOd', cancelled_at=None, completed_at=1704810384, created_at=1704810381, expired_at=None, failed_at=None, last_error=None, metadata=None, object='thread.run.step', run_id='run_p5c6XN2Ap08SBlkGACQjbonX', status='completed', step_details=ToolCallsStepDetails(tool_calls=[FunctionToolCall(id='call_CiUOCaA1eOxhQsfuKjmtcbHT', function=Function(arguments='{\"longitude\": 9.9976, \"latitude\": 51.3396, \"zoom\": 6}', name='update_map', output='Map updated'), type='function'), FunctionToolCall(id='call_G4lFq8d2TNuTITI3yUW5OUgQ', function=Function(arguments='{\"longitude\": 9.9976, \"latitude\": 51.3396, \"label\": \"Welcome to Germany\"}', name='add_marker', output='Marker added'), type='function')], type='tool_calls'), thread_id='thread_zLKR1CQrHa3oZ1rKaV8Dwfjp', type='tool_calls', expires_at=1704810979)], object='list', first_id='step_zepIv8AHwHNKEwiYWOzOPjVP', last_id='step_zepIv8AHwHNKEwiYWOzOPjVP', has_more=False)\n",
            "Run is in_progress. Waiting...\n",
            "Run Steps: SyncCursorPage[RunStep](data=[RunStep(id='step_zepIv8AHwHNKEwiYWOzOPjVP', assistant_id='asst_WQkoiHUNGIdzoIrLQcSovfOd', cancelled_at=None, completed_at=1704810384, created_at=1704810381, expired_at=None, failed_at=None, last_error=None, metadata=None, object='thread.run.step', run_id='run_p5c6XN2Ap08SBlkGACQjbonX', status='completed', step_details=ToolCallsStepDetails(tool_calls=[FunctionToolCall(id='call_CiUOCaA1eOxhQsfuKjmtcbHT', function=Function(arguments='{\"longitude\": 9.9976, \"latitude\": 51.3396, \"zoom\": 6}', name='update_map', output='Map updated'), type='function'), FunctionToolCall(id='call_G4lFq8d2TNuTITI3yUW5OUgQ', function=Function(arguments='{\"longitude\": 9.9976, \"latitude\": 51.3396, \"label\": \"Welcome to Germany\"}', name='add_marker', output='Marker added'), type='function')], type='tool_calls'), thread_id='thread_zLKR1CQrHa3oZ1rKaV8Dwfjp', type='tool_calls', expires_at=1704810979)], object='list', first_id='step_zepIv8AHwHNKEwiYWOzOPjVP', last_id='step_zepIv8AHwHNKEwiYWOzOPjVP', has_more=False)\n",
            "Run is in_progress. Waiting...\n",
            "Run Steps: SyncCursorPage[RunStep](data=[RunStep(id='step_zepIv8AHwHNKEwiYWOzOPjVP', assistant_id='asst_WQkoiHUNGIdzoIrLQcSovfOd', cancelled_at=None, completed_at=1704810384, created_at=1704810381, expired_at=None, failed_at=None, last_error=None, metadata=None, object='thread.run.step', run_id='run_p5c6XN2Ap08SBlkGACQjbonX', status='completed', step_details=ToolCallsStepDetails(tool_calls=[FunctionToolCall(id='call_CiUOCaA1eOxhQsfuKjmtcbHT', function=Function(arguments='{\"longitude\": 9.9976, \"latitude\": 51.3396, \"zoom\": 6}', name='update_map', output='Map updated'), type='function'), FunctionToolCall(id='call_G4lFq8d2TNuTITI3yUW5OUgQ', function=Function(arguments='{\"longitude\": 9.9976, \"latitude\": 51.3396, \"label\": \"Welcome to Germany\"}', name='add_marker', output='Marker added'), type='function')], type='tool_calls'), thread_id='thread_zLKR1CQrHa3oZ1rKaV8Dwfjp', type='tool_calls', expires_at=1704810979)], object='list', first_id='step_zepIv8AHwHNKEwiYWOzOPjVP', last_id='step_zepIv8AHwHNKEwiYWOzOPjVP', has_more=False)\n",
            "Run is in_progress. Waiting...\n",
            "Run Steps: SyncCursorPage[RunStep](data=[RunStep(id='step_zepIv8AHwHNKEwiYWOzOPjVP', assistant_id='asst_WQkoiHUNGIdzoIrLQcSovfOd', cancelled_at=None, completed_at=1704810384, created_at=1704810381, expired_at=None, failed_at=None, last_error=None, metadata=None, object='thread.run.step', run_id='run_p5c6XN2Ap08SBlkGACQjbonX', status='completed', step_details=ToolCallsStepDetails(tool_calls=[FunctionToolCall(id='call_CiUOCaA1eOxhQsfuKjmtcbHT', function=Function(arguments='{\"longitude\": 9.9976, \"latitude\": 51.3396, \"zoom\": 6}', name='update_map', output='Map updated'), type='function'), FunctionToolCall(id='call_G4lFq8d2TNuTITI3yUW5OUgQ', function=Function(arguments='{\"longitude\": 9.9976, \"latitude\": 51.3396, \"label\": \"Welcome to Germany\"}', name='add_marker', output='Marker added'), type='function')], type='tool_calls'), thread_id='thread_zLKR1CQrHa3oZ1rKaV8Dwfjp', type='tool_calls', expires_at=1704810979)], object='list', first_id='step_zepIv8AHwHNKEwiYWOzOPjVP', last_id='step_zepIv8AHwHNKEwiYWOzOPjVP', has_more=False)\n",
            "Run is in_progress. Waiting...\n",
            "Run Steps: SyncCursorPage[RunStep](data=[RunStep(id='step_zepIv8AHwHNKEwiYWOzOPjVP', assistant_id='asst_WQkoiHUNGIdzoIrLQcSovfOd', cancelled_at=None, completed_at=1704810384, created_at=1704810381, expired_at=None, failed_at=None, last_error=None, metadata=None, object='thread.run.step', run_id='run_p5c6XN2Ap08SBlkGACQjbonX', status='completed', step_details=ToolCallsStepDetails(tool_calls=[FunctionToolCall(id='call_CiUOCaA1eOxhQsfuKjmtcbHT', function=Function(arguments='{\"longitude\": 9.9976, \"latitude\": 51.3396, \"zoom\": 6}', name='update_map', output='Map updated'), type='function'), FunctionToolCall(id='call_G4lFq8d2TNuTITI3yUW5OUgQ', function=Function(arguments='{\"longitude\": 9.9976, \"latitude\": 51.3396, \"label\": \"Welcome to Germany\"}', name='add_marker', output='Marker added'), type='function')], type='tool_calls'), thread_id='thread_zLKR1CQrHa3oZ1rKaV8Dwfjp', type='tool_calls', expires_at=1704810979)], object='list', first_id='step_zepIv8AHwHNKEwiYWOzOPjVP', last_id='step_zepIv8AHwHNKEwiYWOzOPjVP', has_more=False)\n",
            "Run is in_progress. Waiting...\n",
            "Run Steps: SyncCursorPage[RunStep](data=[RunStep(id='step_zepIv8AHwHNKEwiYWOzOPjVP', assistant_id='asst_WQkoiHUNGIdzoIrLQcSovfOd', cancelled_at=None, completed_at=1704810384, created_at=1704810381, expired_at=None, failed_at=None, last_error=None, metadata=None, object='thread.run.step', run_id='run_p5c6XN2Ap08SBlkGACQjbonX', status='completed', step_details=ToolCallsStepDetails(tool_calls=[FunctionToolCall(id='call_CiUOCaA1eOxhQsfuKjmtcbHT', function=Function(arguments='{\"longitude\": 9.9976, \"latitude\": 51.3396, \"zoom\": 6}', name='update_map', output='Map updated'), type='function'), FunctionToolCall(id='call_G4lFq8d2TNuTITI3yUW5OUgQ', function=Function(arguments='{\"longitude\": 9.9976, \"latitude\": 51.3396, \"label\": \"Welcome to Germany\"}', name='add_marker', output='Marker added'), type='function')], type='tool_calls'), thread_id='thread_zLKR1CQrHa3oZ1rKaV8Dwfjp', type='tool_calls', expires_at=1704810979)], object='list', first_id='step_zepIv8AHwHNKEwiYWOzOPjVP', last_id='step_zepIv8AHwHNKEwiYWOzOPjVP', has_more=False)\n",
            "Run is in_progress. Waiting...\n",
            "Run Steps: SyncCursorPage[RunStep](data=[RunStep(id='step_JA1tWb6Yv4EzHFUAaJfDA9Ru', assistant_id='asst_WQkoiHUNGIdzoIrLQcSovfOd', cancelled_at=None, completed_at=None, created_at=1704810387, expired_at=None, failed_at=None, last_error=None, metadata=None, object='thread.run.step', run_id='run_p5c6XN2Ap08SBlkGACQjbonX', status='in_progress', step_details=MessageCreationStepDetails(message_creation=MessageCreation(message_id='msg_zB3rLFpxk5ttGNqFNDviat99'), type='message_creation'), thread_id='thread_zLKR1CQrHa3oZ1rKaV8Dwfjp', type='message_creation', expires_at=1704810979), RunStep(id='step_zepIv8AHwHNKEwiYWOzOPjVP', assistant_id='asst_WQkoiHUNGIdzoIrLQcSovfOd', cancelled_at=None, completed_at=1704810384, created_at=1704810381, expired_at=None, failed_at=None, last_error=None, metadata=None, object='thread.run.step', run_id='run_p5c6XN2Ap08SBlkGACQjbonX', status='completed', step_details=ToolCallsStepDetails(tool_calls=[FunctionToolCall(id='call_CiUOCaA1eOxhQsfuKjmtcbHT', function=Function(arguments='{\"longitude\": 9.9976, \"latitude\": 51.3396, \"zoom\": 6}', name='update_map', output='Map updated'), type='function'), FunctionToolCall(id='call_G4lFq8d2TNuTITI3yUW5OUgQ', function=Function(arguments='{\"longitude\": 9.9976, \"latitude\": 51.3396, \"label\": \"Welcome to Germany\"}', name='add_marker', output='Marker added'), type='function')], type='tool_calls'), thread_id='thread_zLKR1CQrHa3oZ1rKaV8Dwfjp', type='tool_calls', expires_at=1704810979)], object='list', first_id='step_JA1tWb6Yv4EzHFUAaJfDA9Ru', last_id='step_zepIv8AHwHNKEwiYWOzOPjVP', has_more=False)\n",
            "Run is in_progress. Waiting...\n",
            "Run Steps: SyncCursorPage[RunStep](data=[RunStep(id='step_JA1tWb6Yv4EzHFUAaJfDA9Ru', assistant_id='asst_WQkoiHUNGIdzoIrLQcSovfOd', cancelled_at=None, completed_at=None, created_at=1704810387, expired_at=None, failed_at=None, last_error=None, metadata=None, object='thread.run.step', run_id='run_p5c6XN2Ap08SBlkGACQjbonX', status='in_progress', step_details=MessageCreationStepDetails(message_creation=MessageCreation(message_id='msg_zB3rLFpxk5ttGNqFNDviat99'), type='message_creation'), thread_id='thread_zLKR1CQrHa3oZ1rKaV8Dwfjp', type='message_creation', expires_at=1704810979), RunStep(id='step_zepIv8AHwHNKEwiYWOzOPjVP', assistant_id='asst_WQkoiHUNGIdzoIrLQcSovfOd', cancelled_at=None, completed_at=1704810384, created_at=1704810381, expired_at=None, failed_at=None, last_error=None, metadata=None, object='thread.run.step', run_id='run_p5c6XN2Ap08SBlkGACQjbonX', status='completed', step_details=ToolCallsStepDetails(tool_calls=[FunctionToolCall(id='call_CiUOCaA1eOxhQsfuKjmtcbHT', function=Function(arguments='{\"longitude\": 9.9976, \"latitude\": 51.3396, \"zoom\": 6}', name='update_map', output='Map updated'), type='function'), FunctionToolCall(id='call_G4lFq8d2TNuTITI3yUW5OUgQ', function=Function(arguments='{\"longitude\": 9.9976, \"latitude\": 51.3396, \"label\": \"Welcome to Germany\"}', name='add_marker', output='Marker added'), type='function')], type='tool_calls'), thread_id='thread_zLKR1CQrHa3oZ1rKaV8Dwfjp', type='tool_calls', expires_at=1704810979)], object='list', first_id='step_JA1tWb6Yv4EzHFUAaJfDA9Ru', last_id='step_zepIv8AHwHNKEwiYWOzOPjVP', has_more=False)\n",
            "Run is in_progress. Waiting...\n",
            "Run Steps: SyncCursorPage[RunStep](data=[RunStep(id='step_JA1tWb6Yv4EzHFUAaJfDA9Ru', assistant_id='asst_WQkoiHUNGIdzoIrLQcSovfOd', cancelled_at=None, completed_at=None, created_at=1704810387, expired_at=None, failed_at=None, last_error=None, metadata=None, object='thread.run.step', run_id='run_p5c6XN2Ap08SBlkGACQjbonX', status='in_progress', step_details=MessageCreationStepDetails(message_creation=MessageCreation(message_id='msg_zB3rLFpxk5ttGNqFNDviat99'), type='message_creation'), thread_id='thread_zLKR1CQrHa3oZ1rKaV8Dwfjp', type='message_creation', expires_at=1704810979), RunStep(id='step_zepIv8AHwHNKEwiYWOzOPjVP', assistant_id='asst_WQkoiHUNGIdzoIrLQcSovfOd', cancelled_at=None, completed_at=1704810384, created_at=1704810381, expired_at=None, failed_at=None, last_error=None, metadata=None, object='thread.run.step', run_id='run_p5c6XN2Ap08SBlkGACQjbonX', status='completed', step_details=ToolCallsStepDetails(tool_calls=[FunctionToolCall(id='call_CiUOCaA1eOxhQsfuKjmtcbHT', function=Function(arguments='{\"longitude\": 9.9976, \"latitude\": 51.3396, \"zoom\": 6}', name='update_map', output='Map updated'), type='function'), FunctionToolCall(id='call_G4lFq8d2TNuTITI3yUW5OUgQ', function=Function(arguments='{\"longitude\": 9.9976, \"latitude\": 51.3396, \"label\": \"Welcome to Germany\"}', name='add_marker', output='Marker added'), type='function')], type='tool_calls'), thread_id='thread_zLKR1CQrHa3oZ1rKaV8Dwfjp', type='tool_calls', expires_at=1704810979)], object='list', first_id='step_JA1tWb6Yv4EzHFUAaJfDA9Ru', last_id='step_zepIv8AHwHNKEwiYWOzOPjVP', has_more=False)\n",
            "Run is in_progress. Waiting...\n",
            "Run Steps: SyncCursorPage[RunStep](data=[RunStep(id='step_JA1tWb6Yv4EzHFUAaJfDA9Ru', assistant_id='asst_WQkoiHUNGIdzoIrLQcSovfOd', cancelled_at=None, completed_at=1704810388, created_at=1704810387, expired_at=None, failed_at=None, last_error=None, metadata=None, object='thread.run.step', run_id='run_p5c6XN2Ap08SBlkGACQjbonX', status='completed', step_details=MessageCreationStepDetails(message_creation=MessageCreation(message_id='msg_zB3rLFpxk5ttGNqFNDviat99'), type='message_creation'), thread_id='thread_zLKR1CQrHa3oZ1rKaV8Dwfjp', type='message_creation', expires_at=None), RunStep(id='step_zepIv8AHwHNKEwiYWOzOPjVP', assistant_id='asst_WQkoiHUNGIdzoIrLQcSovfOd', cancelled_at=None, completed_at=1704810384, created_at=1704810381, expired_at=None, failed_at=None, last_error=None, metadata=None, object='thread.run.step', run_id='run_p5c6XN2Ap08SBlkGACQjbonX', status='completed', step_details=ToolCallsStepDetails(tool_calls=[FunctionToolCall(id='call_CiUOCaA1eOxhQsfuKjmtcbHT', function=Function(arguments='{\"longitude\": 9.9976, \"latitude\": 51.3396, \"zoom\": 6}', name='update_map', output='Map updated'), type='function'), FunctionToolCall(id='call_G4lFq8d2TNuTITI3yUW5OUgQ', function=Function(arguments='{\"longitude\": 9.9976, \"latitude\": 51.3396, \"label\": \"Welcome to Germany\"}', name='add_marker', output='Marker added'), type='function')], type='tool_calls'), thread_id='thread_zLKR1CQrHa3oZ1rKaV8Dwfjp', type='tool_calls', expires_at=None)], object='list', first_id='step_JA1tWb6Yv4EzHFUAaJfDA9Ru', last_id='step_zepIv8AHwHNKEwiYWOzOPjVP', has_more=False)\n",
            "Assistant: We've arrived in Germany! Is there a specific city or landmark you'd like to visit while we're here? Let me know how I can assist you further!\n",
            "\n",
            "User: Take me to Germany!\n",
            "\n",
            "Assistant: In Paris, there are many iconic landmarks and attractions to visit, such as the Eiffel Tower, the Louvre Museum, Notre-Dame Cathedral, and Montmartre. You may also want to take a leisurely stroll along the Seine River or explore the charming neighborhoods and cafes. Let me know if you'd like more details about any of these suggestions or if there's anything specific you're interested in!\n",
            "\n",
            "User: Suggest what I should do in Paris?\n",
            "\n",
            "Assistant: We're all set to explore Paris! What would you like to do first?\n",
            "\n",
            "User: Let's go to Paris\n",
            "\n"
          ]
        }
      ]
    },
    {
      "cell_type": "code",
      "source": [
        "def add_chat_msg():\n",
        "  st.session_state[\"conversation\"] = [\n",
        "      (m.role, m.content[0].text.value) for m in client.beta.threads.messages.list(st.session_state[\"thread\"].id).data\n",
        "  ]\n",
        "\n",
        "add_chat_msg()"
      ],
      "metadata": {
        "id": "138Vpg7f-i6Y"
      },
      "execution_count": 72,
      "outputs": []
    },
    {
      "cell_type": "code",
      "source": [
        "st.session_state[\"conversation\"]"
      ],
      "metadata": {
        "colab": {
          "base_uri": "https://localhost:8080/"
        },
        "id": "T8aDI7RsBRb0",
        "outputId": "e697d1ee-c1fe-4d58-e2a8-7be2f0ea79bb"
      },
      "execution_count": 79,
      "outputs": [
        {
          "output_type": "execute_result",
          "data": {
            "text/plain": [
              "[('assistant',\n",
              "  \"We've arrived in Germany! Is there a specific city or landmark you'd like to visit while we're here? Let me know how I can assist you further!\"),\n",
              " ('user', 'Take me to Germany!'),\n",
              " ('assistant',\n",
              "  \"In Paris, there are many iconic landmarks and attractions to visit, such as the Eiffel Tower, the Louvre Museum, Notre-Dame Cathedral, and Montmartre. You may also want to take a leisurely stroll along the Seine River or explore the charming neighborhoods and cafes. Let me know if you'd like more details about any of these suggestions or if there's anything specific you're interested in!\"),\n",
              " ('user', 'Suggest what I should do in Paris?'),\n",
              " ('assistant',\n",
              "  \"We're all set to explore Paris! What would you like to do first?\"),\n",
              " ('user', \"Let's go to Paris\")]"
            ]
          },
          "metadata": {},
          "execution_count": 79
        }
      ]
    },
    {
      "cell_type": "code",
      "source": [
        "#Create UI for Assistant\n",
        "import plotly.graph_objects as go\n",
        "\n",
        "initialize_session_state()\n",
        "\n",
        "def on_text_input():\n",
        "  #Push message to conversation\n",
        "  message_id = create_message(st.session_state[\"input_user_msg\"])\n",
        "  create_run()\n",
        "  poll_run_status()\n",
        "  add_chat_msg()\n",
        "\n",
        "\n",
        "st.title(\"Wanderlust\")\n",
        "left_col, right_col = st.columns(2)\n",
        "\n",
        "with left_col:\n",
        "  st.subheader(\"Conversation\")\n",
        "  for role, message in st.session_state[\"conversation\"]:\n",
        "    with st.chat_message(role):\n",
        "      st.write(message)\n",
        "\n",
        "with right_col:\n",
        "  fig = go.Figure(go.Scattermapbox(mode=\"markers\",))\n",
        "  fig.update_layout(\n",
        "    mapbox = dict(\n",
        "        accesstoken = userdata.get('MAPBOX_TOKEN'),\n",
        "        center = go.layout.mapbox.Center(\n",
        "            lat = st.session_state[\"map\"][\"latitude\"],\n",
        "            lon = st.session_state[\"map\"][\"longitude\"],\n",
        "        ),\n",
        "        zoom = st.session_state[\"map\"][\"zoom\"],\n",
        "    ),\n",
        "    margin = dict(l=0, r=0, t=0, b=0),\n",
        "  )\n",
        "  if st.session_state[\"markers\"] is not None:\n",
        "    fig.add_trace(\n",
        "        go.Scattermapbox(\n",
        "            mode=\"markers\",\n",
        "            marker=go.scattermapbox.Marker(\n",
        "                size=24,\n",
        "                color=\"red\",\n",
        "            ),\n",
        "            lat = st.session_state[\"markers\"][\"lat\"],\n",
        "            lon =st.session_state[\"markers\"][\"lon\"],\n",
        "            label = st.session_state[\"markers\"][\"label\"],\n",
        "        )\n",
        "    )\n",
        "  st.plotly_chart(fig, config={\"displayModeBar\": False}, use_container_width=True, key=\"plotly\")\n",
        "\n",
        "st.chat_input(\n",
        "    placeholder = \"Ask your question here\",\n",
        "    key = \"input_user_msg\",\n",
        "    on_submit = on_text_input,\n",
        ")"
      ],
      "metadata": {
        "id": "PLkVRT3kAZW1"
      },
      "execution_count": 59,
      "outputs": []
    }
  ]
}